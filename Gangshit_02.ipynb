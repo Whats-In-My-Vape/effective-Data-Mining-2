{
  "nbformat": 4,
  "nbformat_minor": 0,
  "metadata": {
    "colab": {
      "name": "Gangshit-02",
      "provenance": [],
      "toc_visible": true,
      "authorship_tag": "ABX9TyOtrJvFXQ4IS+xjI2rXbcu5",
      "include_colab_link": true
    },
    "kernelspec": {
      "name": "python3",
      "display_name": "Python 3"
    }
  },
  "cells": [
    {
      "cell_type": "markdown",
      "metadata": {
        "id": "view-in-github",
        "colab_type": "text"
      },
      "source": [
        "<a href=\"https://colab.research.google.com/github/Whats-In-My-Vape/effective-Data-Mining-2/blob/master/Gangshit_02.ipynb\" target=\"_parent\"><img src=\"https://colab.research.google.com/assets/colab-badge.svg\" alt=\"Open In Colab\"/></a>"
      ]
    },
    {
      "cell_type": "code",
      "metadata": {
        "id": "nyM-m1g--UMb",
        "colab_type": "code",
        "colab": {}
      },
      "source": [
        "import pandas as pd\n",
        "import numpy as np\n",
        "import matplotlib.pyplot as plt\n",
        "\n",
        "import seaborn as sns\n",
        "sns.set_style(\"darkgrid\")\n",
        "\n",
        "from IPython.display import display, Markdown\n",
        "pd.set_option('display.max_columns', None)  \n",
        "\n",
        "DEBUG = False\n",
        "\n",
        "import os\n",
        "for d in ['src','data','output']: os.makedirs(d, exist_ok=True)"
      ],
      "execution_count": 0,
      "outputs": []
    },
    {
      "cell_type": "code",
      "metadata": {
        "id": "cMT6x4eK_L8T",
        "colab_type": "code",
        "outputId": "a98ee772-faa9-4127-f6fc-45b9c29c7434",
        "colab": {
          "base_uri": "https://localhost:8080/",
          "height": 56
        }
      },
      "source": [
        "for filename in ['churn.csv','states.csv']:\n",
        "    source = f\"https://kmurphy.bitbucket.io/modules/Data_Mining_2/topics/01-Module_Introduction/20-Practical_01_-_Review_of_Pandas_-_Churn/files/{filename}\"\n",
        "    target = f\"src/{filename}\"\n",
        "\n",
        "    if not os.path.isfile(target):\n",
        "        print (f\"Downloading remote file {filename}\", sep=\"\")\n",
        "        import urllib.request\n",
        "        urllib.request.urlretrieve(source, target)\n",
        "    else:\n",
        "        print(f\"Using local copy of {filename}\")"
      ],
      "execution_count": 0,
      "outputs": [
        {
          "output_type": "stream",
          "text": [
            "Using local copy of churn.csv\n",
            "Using local copy of states.csv\n"
          ],
          "name": "stdout"
        }
      ]
    },
    {
      "cell_type": "markdown",
      "metadata": {
        "id": "blr-bMeS_RM_",
        "colab_type": "text"
      },
      "source": [
        "# Read data"
      ]
    },
    {
      "cell_type": "code",
      "metadata": {
        "id": "v7l3cblx_UqU",
        "colab_type": "code",
        "outputId": "3efe8c0a-0883-45d7-e4c6-58d19eeb8d0c",
        "colab": {
          "base_uri": "https://localhost:8080/",
          "height": 243
        }
      },
      "source": [
        "df = pd.read_csv(\"src/churn.csv\")\n",
        "display(df.shape)\n",
        "df.head()"
      ],
      "execution_count": 0,
      "outputs": [
        {
          "output_type": "display_data",
          "data": {
            "text/plain": [
              "(3333, 21)"
            ]
          },
          "metadata": {
            "tags": []
          }
        },
        {
          "output_type": "execute_result",
          "data": {
            "text/html": [
              "<div>\n",
              "<style scoped>\n",
              "    .dataframe tbody tr th:only-of-type {\n",
              "        vertical-align: middle;\n",
              "    }\n",
              "\n",
              "    .dataframe tbody tr th {\n",
              "        vertical-align: top;\n",
              "    }\n",
              "\n",
              "    .dataframe thead th {\n",
              "        text-align: right;\n",
              "    }\n",
              "</style>\n",
              "<table border=\"1\" class=\"dataframe\">\n",
              "  <thead>\n",
              "    <tr style=\"text-align: right;\">\n",
              "      <th></th>\n",
              "      <th>State</th>\n",
              "      <th>Account Length</th>\n",
              "      <th>Area Code</th>\n",
              "      <th>Phone</th>\n",
              "      <th>Int'l Plan</th>\n",
              "      <th>VMail Plan</th>\n",
              "      <th>VMail Message</th>\n",
              "      <th>Day Mins</th>\n",
              "      <th>Day Calls</th>\n",
              "      <th>Day Charge</th>\n",
              "      <th>Eve Mins</th>\n",
              "      <th>Eve Calls</th>\n",
              "      <th>Eve Charge</th>\n",
              "      <th>Night Mins</th>\n",
              "      <th>Night Calls</th>\n",
              "      <th>Night Charge</th>\n",
              "      <th>Intl Mins</th>\n",
              "      <th>Intl Calls</th>\n",
              "      <th>Intl Charge</th>\n",
              "      <th>CustServ Calls</th>\n",
              "      <th>Churn?</th>\n",
              "    </tr>\n",
              "  </thead>\n",
              "  <tbody>\n",
              "    <tr>\n",
              "      <th>0</th>\n",
              "      <td>KS</td>\n",
              "      <td>128</td>\n",
              "      <td>415</td>\n",
              "      <td>382-4657</td>\n",
              "      <td>no</td>\n",
              "      <td>yes</td>\n",
              "      <td>25</td>\n",
              "      <td>265.1</td>\n",
              "      <td>110</td>\n",
              "      <td>45.07</td>\n",
              "      <td>197.4</td>\n",
              "      <td>99</td>\n",
              "      <td>16.78</td>\n",
              "      <td>244.7</td>\n",
              "      <td>91</td>\n",
              "      <td>11.01</td>\n",
              "      <td>10.0</td>\n",
              "      <td>3</td>\n",
              "      <td>2.70</td>\n",
              "      <td>1</td>\n",
              "      <td>False.</td>\n",
              "    </tr>\n",
              "    <tr>\n",
              "      <th>1</th>\n",
              "      <td>OH</td>\n",
              "      <td>107</td>\n",
              "      <td>415</td>\n",
              "      <td>371-7191</td>\n",
              "      <td>no</td>\n",
              "      <td>yes</td>\n",
              "      <td>26</td>\n",
              "      <td>161.6</td>\n",
              "      <td>123</td>\n",
              "      <td>27.47</td>\n",
              "      <td>195.5</td>\n",
              "      <td>103</td>\n",
              "      <td>16.62</td>\n",
              "      <td>254.4</td>\n",
              "      <td>103</td>\n",
              "      <td>11.45</td>\n",
              "      <td>13.7</td>\n",
              "      <td>3</td>\n",
              "      <td>3.70</td>\n",
              "      <td>1</td>\n",
              "      <td>False.</td>\n",
              "    </tr>\n",
              "    <tr>\n",
              "      <th>2</th>\n",
              "      <td>NJ</td>\n",
              "      <td>137</td>\n",
              "      <td>415</td>\n",
              "      <td>358-1921</td>\n",
              "      <td>no</td>\n",
              "      <td>no</td>\n",
              "      <td>0</td>\n",
              "      <td>243.4</td>\n",
              "      <td>114</td>\n",
              "      <td>41.38</td>\n",
              "      <td>121.2</td>\n",
              "      <td>110</td>\n",
              "      <td>10.30</td>\n",
              "      <td>162.6</td>\n",
              "      <td>104</td>\n",
              "      <td>7.32</td>\n",
              "      <td>12.2</td>\n",
              "      <td>5</td>\n",
              "      <td>3.29</td>\n",
              "      <td>0</td>\n",
              "      <td>False.</td>\n",
              "    </tr>\n",
              "    <tr>\n",
              "      <th>3</th>\n",
              "      <td>OH</td>\n",
              "      <td>84</td>\n",
              "      <td>408</td>\n",
              "      <td>375-9999</td>\n",
              "      <td>yes</td>\n",
              "      <td>no</td>\n",
              "      <td>0</td>\n",
              "      <td>299.4</td>\n",
              "      <td>71</td>\n",
              "      <td>50.90</td>\n",
              "      <td>61.9</td>\n",
              "      <td>88</td>\n",
              "      <td>5.26</td>\n",
              "      <td>196.9</td>\n",
              "      <td>89</td>\n",
              "      <td>8.86</td>\n",
              "      <td>6.6</td>\n",
              "      <td>7</td>\n",
              "      <td>1.78</td>\n",
              "      <td>2</td>\n",
              "      <td>False.</td>\n",
              "    </tr>\n",
              "    <tr>\n",
              "      <th>4</th>\n",
              "      <td>OK</td>\n",
              "      <td>75</td>\n",
              "      <td>415</td>\n",
              "      <td>330-6626</td>\n",
              "      <td>yes</td>\n",
              "      <td>no</td>\n",
              "      <td>0</td>\n",
              "      <td>166.7</td>\n",
              "      <td>113</td>\n",
              "      <td>28.34</td>\n",
              "      <td>148.3</td>\n",
              "      <td>122</td>\n",
              "      <td>12.61</td>\n",
              "      <td>186.9</td>\n",
              "      <td>121</td>\n",
              "      <td>8.41</td>\n",
              "      <td>10.1</td>\n",
              "      <td>3</td>\n",
              "      <td>2.73</td>\n",
              "      <td>3</td>\n",
              "      <td>False.</td>\n",
              "    </tr>\n",
              "  </tbody>\n",
              "</table>\n",
              "</div>"
            ],
            "text/plain": [
              "  State  Account Length  Area Code     Phone Int'l Plan VMail Plan  \\\n",
              "0    KS             128        415  382-4657         no        yes   \n",
              "1    OH             107        415  371-7191         no        yes   \n",
              "2    NJ             137        415  358-1921         no         no   \n",
              "3    OH              84        408  375-9999        yes         no   \n",
              "4    OK              75        415  330-6626        yes         no   \n",
              "\n",
              "   VMail Message  Day Mins  Day Calls  Day Charge  Eve Mins  Eve Calls  \\\n",
              "0             25     265.1        110       45.07     197.4         99   \n",
              "1             26     161.6        123       27.47     195.5        103   \n",
              "2              0     243.4        114       41.38     121.2        110   \n",
              "3              0     299.4         71       50.90      61.9         88   \n",
              "4              0     166.7        113       28.34     148.3        122   \n",
              "\n",
              "   Eve Charge  Night Mins  Night Calls  Night Charge  Intl Mins  Intl Calls  \\\n",
              "0       16.78       244.7           91         11.01       10.0           3   \n",
              "1       16.62       254.4          103         11.45       13.7           3   \n",
              "2       10.30       162.6          104          7.32       12.2           5   \n",
              "3        5.26       196.9           89          8.86        6.6           7   \n",
              "4       12.61       186.9          121          8.41       10.1           3   \n",
              "\n",
              "   Intl Charge  CustServ Calls  Churn?  \n",
              "0         2.70               1  False.  \n",
              "1         3.70               1  False.  \n",
              "2         3.29               0  False.  \n",
              "3         1.78               2  False.  \n",
              "4         2.73               3  False.  "
            ]
          },
          "metadata": {
            "tags": []
          },
          "execution_count": 26
        }
      ]
    },
    {
      "cell_type": "markdown",
      "metadata": {
        "id": "tstVRGeHAyyQ",
        "colab_type": "text"
      },
      "source": [
        "# Corrections"
      ]
    },
    {
      "cell_type": "code",
      "metadata": {
        "id": "Mw0dKuscAxrd",
        "colab_type": "code",
        "outputId": "b45d6c35-75b6-4980-b021-023200ede5b1",
        "colab": {
          "base_uri": "https://localhost:8080/",
          "height": 482
        }
      },
      "source": [
        "names = df.columns.tolist()\n",
        "print(\"Original columns names:\\n\", names)\n",
        "\n",
        "CORRECTIONS = {\" \":\"_\", \"'\":\"\", \"?\":\"\", \"CustServ\":\"Cust_Serv\"}\n",
        "\n",
        "def fixName(s):\n",
        "    for a,b in CORRECTIONS.items():\n",
        "        s = s.replace(a,b)\n",
        "    return s\n",
        "\n",
        "mapping = {c:fixName(c) for c in names}\n",
        "mapping"
      ],
      "execution_count": 0,
      "outputs": [
        {
          "output_type": "stream",
          "text": [
            "Original columns names:\n",
            " ['State', 'Account Length', 'Area Code', 'Phone', \"Int'l Plan\", 'VMail Plan', 'VMail Message', 'Day Mins', 'Day Calls', 'Day Charge', 'Eve Mins', 'Eve Calls', 'Eve Charge', 'Night Mins', 'Night Calls', 'Night Charge', 'Intl Mins', 'Intl Calls', 'Intl Charge', 'CustServ Calls', 'Churn?']\n"
          ],
          "name": "stdout"
        },
        {
          "output_type": "execute_result",
          "data": {
            "text/plain": [
              "{'Account Length': 'Account_Length',\n",
              " 'Area Code': 'Area_Code',\n",
              " 'Churn?': 'Churn',\n",
              " 'CustServ Calls': 'Cust_Serv_Calls',\n",
              " 'Day Calls': 'Day_Calls',\n",
              " 'Day Charge': 'Day_Charge',\n",
              " 'Day Mins': 'Day_Mins',\n",
              " 'Eve Calls': 'Eve_Calls',\n",
              " 'Eve Charge': 'Eve_Charge',\n",
              " 'Eve Mins': 'Eve_Mins',\n",
              " \"Int'l Plan\": 'Intl_Plan',\n",
              " 'Intl Calls': 'Intl_Calls',\n",
              " 'Intl Charge': 'Intl_Charge',\n",
              " 'Intl Mins': 'Intl_Mins',\n",
              " 'Night Calls': 'Night_Calls',\n",
              " 'Night Charge': 'Night_Charge',\n",
              " 'Night Mins': 'Night_Mins',\n",
              " 'Phone': 'Phone',\n",
              " 'State': 'State',\n",
              " 'VMail Message': 'VMail_Message',\n",
              " 'VMail Plan': 'VMail_Plan'}"
            ]
          },
          "metadata": {
            "tags": []
          },
          "execution_count": 27
        }
      ]
    },
    {
      "cell_type": "code",
      "metadata": {
        "id": "F1dUfONJBDzD",
        "colab_type": "code",
        "colab": {}
      },
      "source": [
        "df.rename(columns=mapping, inplace=True)"
      ],
      "execution_count": 0,
      "outputs": []
    },
    {
      "cell_type": "markdown",
      "metadata": {
        "id": "eMnKbjx4BL_r",
        "colab_type": "text"
      },
      "source": [
        "#### Drop user specific features (Phone)"
      ]
    },
    {
      "cell_type": "code",
      "metadata": {
        "id": "m2pcLx_PBNVd",
        "colab_type": "code",
        "colab": {}
      },
      "source": [
        "df.drop(columns=[\"Phone\"], inplace=True)"
      ],
      "execution_count": 0,
      "outputs": []
    },
    {
      "cell_type": "markdown",
      "metadata": {
        "id": "CN3998V2BSIc",
        "colab_type": "text"
      },
      "source": [
        "#### Drop highly correlated features"
      ]
    },
    {
      "cell_type": "code",
      "metadata": {
        "id": "AzK-2VUDBTEB",
        "colab_type": "code",
        "colab": {}
      },
      "source": [
        "df.drop(columns=[\"Day_Charge\", \"Eve_Charge\", \"Night_Charge\", \"Intl_Charge\"], inplace=True)"
      ],
      "execution_count": 0,
      "outputs": []
    },
    {
      "cell_type": "markdown",
      "metadata": {
        "id": "ZilnzRm_BYzf",
        "colab_type": "text"
      },
      "source": [
        "#### Standardise labels in target"
      ]
    },
    {
      "cell_type": "code",
      "metadata": {
        "id": "PGHFQyvlBZpR",
        "colab_type": "code",
        "colab": {}
      },
      "source": [
        "df.Churn = df.Churn.map( {\"False.\":\"no\", \"True.\":\"yes\"} )"
      ],
      "execution_count": 0,
      "outputs": []
    },
    {
      "cell_type": "markdown",
      "metadata": {
        "id": "zg7UggeBBd7E",
        "colab_type": "text"
      },
      "source": [
        "### Save"
      ]
    },
    {
      "cell_type": "code",
      "metadata": {
        "id": "S72rNL3TBer1",
        "colab_type": "code",
        "colab": {}
      },
      "source": [
        "df.head()\n",
        "df.to_csv(\"data/churn.csv\", index=False)"
      ],
      "execution_count": 0,
      "outputs": []
    },
    {
      "cell_type": "markdown",
      "metadata": {
        "id": "9qZPdwWQBplW",
        "colab_type": "text"
      },
      "source": [
        "## Load and Prepare Dataset - states"
      ]
    },
    {
      "cell_type": "code",
      "metadata": {
        "id": "Um0jC3KwBhsC",
        "colab_type": "code",
        "outputId": "1fda65d9-9d1e-418c-8d33-6639dfb2c880",
        "colab": {
          "base_uri": "https://localhost:8080/",
          "height": 226
        }
      },
      "source": [
        "df = pd.read_csv('src/states.csv')\n",
        "display(df.shape)\n",
        "df.head()"
      ],
      "execution_count": 0,
      "outputs": [
        {
          "output_type": "display_data",
          "data": {
            "text/plain": [
              "(52, 4)"
            ]
          },
          "metadata": {
            "tags": []
          }
        },
        {
          "output_type": "execute_result",
          "data": {
            "text/html": [
              "<div>\n",
              "<style scoped>\n",
              "    .dataframe tbody tr th:only-of-type {\n",
              "        vertical-align: middle;\n",
              "    }\n",
              "\n",
              "    .dataframe tbody tr th {\n",
              "        vertical-align: top;\n",
              "    }\n",
              "\n",
              "    .dataframe thead th {\n",
              "        text-align: right;\n",
              "    }\n",
              "</style>\n",
              "<table border=\"1\" class=\"dataframe\">\n",
              "  <thead>\n",
              "    <tr style=\"text-align: right;\">\n",
              "      <th></th>\n",
              "      <th>state</th>\n",
              "      <th>latitude</th>\n",
              "      <th>longitude</th>\n",
              "      <th>name</th>\n",
              "    </tr>\n",
              "  </thead>\n",
              "  <tbody>\n",
              "    <tr>\n",
              "      <th>0</th>\n",
              "      <td>AK</td>\n",
              "      <td>63.588753</td>\n",
              "      <td>-154.493062</td>\n",
              "      <td>Alaska</td>\n",
              "    </tr>\n",
              "    <tr>\n",
              "      <th>1</th>\n",
              "      <td>AL</td>\n",
              "      <td>32.318231</td>\n",
              "      <td>-86.902298</td>\n",
              "      <td>Alabama</td>\n",
              "    </tr>\n",
              "    <tr>\n",
              "      <th>2</th>\n",
              "      <td>AR</td>\n",
              "      <td>35.201050</td>\n",
              "      <td>-91.831833</td>\n",
              "      <td>Arkansas</td>\n",
              "    </tr>\n",
              "    <tr>\n",
              "      <th>3</th>\n",
              "      <td>AZ</td>\n",
              "      <td>34.048928</td>\n",
              "      <td>-111.093731</td>\n",
              "      <td>Arizona</td>\n",
              "    </tr>\n",
              "    <tr>\n",
              "      <th>4</th>\n",
              "      <td>CA</td>\n",
              "      <td>36.778261</td>\n",
              "      <td>-119.417932</td>\n",
              "      <td>California</td>\n",
              "    </tr>\n",
              "  </tbody>\n",
              "</table>\n",
              "</div>"
            ],
            "text/plain": [
              "  state   latitude   longitude        name\n",
              "0    AK  63.588753 -154.493062      Alaska\n",
              "1    AL  32.318231  -86.902298     Alabama\n",
              "2    AR  35.201050  -91.831833    Arkansas\n",
              "3    AZ  34.048928 -111.093731     Arizona\n",
              "4    CA  36.778261 -119.417932  California"
            ]
          },
          "metadata": {
            "tags": []
          },
          "execution_count": 33
        }
      ]
    },
    {
      "cell_type": "markdown",
      "metadata": {
        "id": "yuhVgqOXBtZt",
        "colab_type": "text"
      },
      "source": [
        "### Data Cleaning\n",
        " * Columns names should be standardised (use title case)"
      ]
    },
    {
      "cell_type": "markdown",
      "metadata": {
        "id": "h1d2Q62WB1IC",
        "colab_type": "text"
      },
      "source": [
        "#### Standardise columns\n"
      ]
    },
    {
      "cell_type": "code",
      "metadata": {
        "id": "7ov5JdMTBuDa",
        "colab_type": "code",
        "outputId": "a01f9557-2dd5-49fe-8060-0da66c47fd32",
        "colab": {
          "base_uri": "https://localhost:8080/",
          "height": 206
        }
      },
      "source": [
        "df.columns = [c.title() for c in  df.columns]\n",
        "df.head()"
      ],
      "execution_count": 0,
      "outputs": [
        {
          "output_type": "execute_result",
          "data": {
            "text/html": [
              "<div>\n",
              "<style scoped>\n",
              "    .dataframe tbody tr th:only-of-type {\n",
              "        vertical-align: middle;\n",
              "    }\n",
              "\n",
              "    .dataframe tbody tr th {\n",
              "        vertical-align: top;\n",
              "    }\n",
              "\n",
              "    .dataframe thead th {\n",
              "        text-align: right;\n",
              "    }\n",
              "</style>\n",
              "<table border=\"1\" class=\"dataframe\">\n",
              "  <thead>\n",
              "    <tr style=\"text-align: right;\">\n",
              "      <th></th>\n",
              "      <th>State</th>\n",
              "      <th>Latitude</th>\n",
              "      <th>Longitude</th>\n",
              "      <th>Name</th>\n",
              "    </tr>\n",
              "  </thead>\n",
              "  <tbody>\n",
              "    <tr>\n",
              "      <th>0</th>\n",
              "      <td>AK</td>\n",
              "      <td>63.588753</td>\n",
              "      <td>-154.493062</td>\n",
              "      <td>Alaska</td>\n",
              "    </tr>\n",
              "    <tr>\n",
              "      <th>1</th>\n",
              "      <td>AL</td>\n",
              "      <td>32.318231</td>\n",
              "      <td>-86.902298</td>\n",
              "      <td>Alabama</td>\n",
              "    </tr>\n",
              "    <tr>\n",
              "      <th>2</th>\n",
              "      <td>AR</td>\n",
              "      <td>35.201050</td>\n",
              "      <td>-91.831833</td>\n",
              "      <td>Arkansas</td>\n",
              "    </tr>\n",
              "    <tr>\n",
              "      <th>3</th>\n",
              "      <td>AZ</td>\n",
              "      <td>34.048928</td>\n",
              "      <td>-111.093731</td>\n",
              "      <td>Arizona</td>\n",
              "    </tr>\n",
              "    <tr>\n",
              "      <th>4</th>\n",
              "      <td>CA</td>\n",
              "      <td>36.778261</td>\n",
              "      <td>-119.417932</td>\n",
              "      <td>California</td>\n",
              "    </tr>\n",
              "  </tbody>\n",
              "</table>\n",
              "</div>"
            ],
            "text/plain": [
              "  State   Latitude   Longitude        Name\n",
              "0    AK  63.588753 -154.493062      Alaska\n",
              "1    AL  32.318231  -86.902298     Alabama\n",
              "2    AR  35.201050  -91.831833    Arkansas\n",
              "3    AZ  34.048928 -111.093731     Arizona\n",
              "4    CA  36.778261 -119.417932  California"
            ]
          },
          "metadata": {
            "tags": []
          },
          "execution_count": 34
        }
      ]
    },
    {
      "cell_type": "markdown",
      "metadata": {
        "id": "GC-sByVJB6__",
        "colab_type": "text"
      },
      "source": [
        "### Save"
      ]
    },
    {
      "cell_type": "code",
      "metadata": {
        "id": "dH6DZdiLB8FP",
        "colab_type": "code",
        "colab": {}
      },
      "source": [
        "df.to_csv(\"data/states.csv\", index=False)"
      ],
      "execution_count": 0,
      "outputs": []
    },
    {
      "cell_type": "markdown",
      "metadata": {
        "id": "Ds7zrehECN92",
        "colab_type": "text"
      },
      "source": [
        "###Graphs"
      ]
    },
    {
      "cell_type": "code",
      "metadata": {
        "id": "34iLlQDVCQB6",
        "colab_type": "code",
        "colab": {}
      },
      "source": [
        ""
      ],
      "execution_count": 0,
      "outputs": []
    }
  ]
}