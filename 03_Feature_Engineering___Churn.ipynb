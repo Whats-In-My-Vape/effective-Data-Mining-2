{
  "nbformat": 4,
  "nbformat_minor": 0,
  "metadata": {
    "kernelspec": {
      "display_name": "Python 3",
      "language": "python",
      "name": "python3"
    },
    "language_info": {
      "codemirror_mode": {
        "name": "ipython",
        "version": 3
      },
      "file_extension": ".py",
      "mimetype": "text/x-python",
      "name": "python",
      "nbconvert_exporter": "python",
      "pygments_lexer": "ipython3",
      "version": "3.6.7"
    },
    "pycharm": {
      "stem_cell": {
        "cell_type": "raw",
        "source": [],
        "metadata": {
          "collapsed": false
        }
      }
    },
    "colab": {
      "name": "03-Feature_Engineering_-_Churn.ipynb",
      "provenance": [],
      "toc_visible": true,
      "include_colab_link": true
    }
  },
  "cells": [
    {
      "cell_type": "markdown",
      "metadata": {
        "id": "view-in-github",
        "colab_type": "text"
      },
      "source": [
        "<a href=\"https://colab.research.google.com/github/Whats-In-My-Vape/effective-Data-Mining-2/blob/master/03_Feature_Engineering___Churn.ipynb\" target=\"_parent\"><img src=\"https://colab.research.google.com/assets/colab-badge.svg\" alt=\"Open In Colab\"/></a>"
      ]
    },
    {
      "cell_type": "markdown",
      "metadata": {
        "Collapsed": "false",
        "id": "gaciKlwr5Y4N",
        "colab_type": "text"
      },
      "source": [
        "# Feature Engineering - Churn"
      ]
    },
    {
      "cell_type": "markdown",
      "metadata": {
        "Collapsed": "false",
        "id": "fJ0NGRK25Y4W",
        "colab_type": "text"
      },
      "source": [
        "## Load Libraries"
      ]
    },
    {
      "cell_type": "code",
      "metadata": {
        "Collapsed": "false",
        "pycharm": {
          "is_executing": false
        },
        "id": "vN0BXljQ5Y4b",
        "colab_type": "code",
        "colab": {}
      },
      "source": [
        "import pandas as pd\n",
        "import numpy as np\n",
        "import matplotlib.pyplot as plt\n",
        "import seaborn as sns\n",
        "sns.set()\n",
        "sns.set(style=\"whitegrid\")\n",
        "sns.set_context(\"notebook\")"
      ],
      "execution_count": 0,
      "outputs": []
    },
    {
      "cell_type": "code",
      "metadata": {
        "Collapsed": "false",
        "pycharm": {
          "is_executing": false
        },
        "id": "sfCUgIPA5Y4v",
        "colab_type": "code",
        "colab": {}
      },
      "source": [
        "from IPython.display import Markdown, display\n",
        "\n",
        "OUT = \"output\"\n",
        "import os\n",
        "os.makedirs(OUT, exist_ok=True)\n",
        "SHOW_PLOTS = False\n",
        "TRAIN_TEST_SEED = 42"
      ],
      "execution_count": 0,
      "outputs": []
    },
    {
      "cell_type": "code",
      "metadata": {
        "Collapsed": "false",
        "pycharm": {
          "is_executing": false
        },
        "id": "BuHOIwEe5Y49",
        "colab_type": "code",
        "colab": {}
      },
      "source": [
        "# utility funciton for typesetting percentages\n",
        "display_fraction = lambda n,d: (n/d*100, n, d)"
      ],
      "execution_count": 0,
      "outputs": []
    },
    {
      "cell_type": "markdown",
      "metadata": {
        "Collapsed": "false",
        "id": "p4X1a0xV5Y5K",
        "colab_type": "text"
      },
      "source": [
        "## Load and Prepare the Data \n",
        "\n",
        "I have made a slight change of naming convention which will simply code below - and also avoid mistakes in lab sessions when I rerun cells out of order to demo parts of the code.   Rather than using __df__ to store the full dataset I will use __df_all__, and use __df__ as an alias for various dataset as needed - see [Feature Engineering](#Feature_Engineering). So will try to follow naming convention:\n",
        "\n",
        " * __df__ alias for various datasets (trwated link a tmp variable, more later). \n",
        " * __df_all__ full dataset after loading and prepped (columns renamed, value recoded).\n",
        " * __df_model__ dataset with target and a subset of the original attributes that may appear in model or be used to construct other attributes.\n",
        " * __df_train__ dataset \n",
        " * __df_test__ dataset \n",
        "\n",
        " \n"
      ]
    },
    {
      "cell_type": "code",
      "metadata": {
        "Collapsed": "false",
        "pycharm": {
          "is_executing": false
        },
        "id": "okYll5Jn5Y5O",
        "colab_type": "code",
        "colab": {
          "base_uri": "https://localhost:8080/",
          "height": 75
        },
        "outputId": "ff82a33c-fb21-44d2-ddf9-9b89dfcc8596"
      },
      "source": [
        "df_churn = pd.read_csv(\"churn.csv\")\n",
        "print(\"Churn\", df_churn.shape)\n",
        "df_states = pd.read_csv(\"states.csv\")\n",
        "print(\"States\", df_states.shape)\n",
        "\n",
        "df_all = df_churn.merge(df_states, on=\"State\")\n",
        "\n",
        "message = (\" * Data set consists of %d cases (rows) with %s attributes (cols) and a single target.\"  \n",
        "% (df_all.shape[0], df_all.shape[1]-1))\n",
        "Markdown(message)"
      ],
      "execution_count": 53,
      "outputs": [
        {
          "output_type": "stream",
          "text": [
            "Churn (3333, 16)\n",
            "States (52, 4)\n"
          ],
          "name": "stdout"
        },
        {
          "output_type": "execute_result",
          "data": {
            "text/markdown": " * Data set consists of 3333 cases (rows) with 18 attributes (cols) and a single target.",
            "text/plain": [
              "<IPython.core.display.Markdown object>"
            ]
          },
          "metadata": {
            "tags": []
          },
          "execution_count": 53
        }
      ]
    },
    {
      "cell_type": "code",
      "metadata": {
        "Collapsed": "false",
        "pycharm": {
          "is_executing": false
        },
        "id": "tv2HonM65Y5g",
        "colab_type": "code",
        "colab": {
          "base_uri": "https://localhost:8080/",
          "height": 226
        },
        "outputId": "7e201f30-3d47-4177-9119-e7b06efb5397"
      },
      "source": [
        "df_all.head()"
      ],
      "execution_count": 54,
      "outputs": [
        {
          "output_type": "execute_result",
          "data": {
            "text/html": [
              "<div>\n",
              "<style scoped>\n",
              "    .dataframe tbody tr th:only-of-type {\n",
              "        vertical-align: middle;\n",
              "    }\n",
              "\n",
              "    .dataframe tbody tr th {\n",
              "        vertical-align: top;\n",
              "    }\n",
              "\n",
              "    .dataframe thead th {\n",
              "        text-align: right;\n",
              "    }\n",
              "</style>\n",
              "<table border=\"1\" class=\"dataframe\">\n",
              "  <thead>\n",
              "    <tr style=\"text-align: right;\">\n",
              "      <th></th>\n",
              "      <th>State</th>\n",
              "      <th>Account_Length</th>\n",
              "      <th>Area_Code</th>\n",
              "      <th>Intl_Plan</th>\n",
              "      <th>VMail_Plan</th>\n",
              "      <th>VMail_Message</th>\n",
              "      <th>Day_Mins</th>\n",
              "      <th>Day_Calls</th>\n",
              "      <th>Eve_Mins</th>\n",
              "      <th>Eve_Calls</th>\n",
              "      <th>Night_Mins</th>\n",
              "      <th>Night_Calls</th>\n",
              "      <th>Intl_Mins</th>\n",
              "      <th>Intl_Calls</th>\n",
              "      <th>Cust_Serv_Calls</th>\n",
              "      <th>Churn</th>\n",
              "      <th>Latitude</th>\n",
              "      <th>Longitude</th>\n",
              "      <th>Name</th>\n",
              "    </tr>\n",
              "  </thead>\n",
              "  <tbody>\n",
              "    <tr>\n",
              "      <th>0</th>\n",
              "      <td>KS</td>\n",
              "      <td>128</td>\n",
              "      <td>415</td>\n",
              "      <td>no</td>\n",
              "      <td>yes</td>\n",
              "      <td>25</td>\n",
              "      <td>265.1</td>\n",
              "      <td>110</td>\n",
              "      <td>197.4</td>\n",
              "      <td>99</td>\n",
              "      <td>244.7</td>\n",
              "      <td>91</td>\n",
              "      <td>10.0</td>\n",
              "      <td>3</td>\n",
              "      <td>1</td>\n",
              "      <td>no</td>\n",
              "      <td>39.011902</td>\n",
              "      <td>-98.484246</td>\n",
              "      <td>Kansas</td>\n",
              "    </tr>\n",
              "    <tr>\n",
              "      <th>1</th>\n",
              "      <td>KS</td>\n",
              "      <td>70</td>\n",
              "      <td>408</td>\n",
              "      <td>no</td>\n",
              "      <td>no</td>\n",
              "      <td>0</td>\n",
              "      <td>232.1</td>\n",
              "      <td>122</td>\n",
              "      <td>292.3</td>\n",
              "      <td>112</td>\n",
              "      <td>201.2</td>\n",
              "      <td>112</td>\n",
              "      <td>0.0</td>\n",
              "      <td>0</td>\n",
              "      <td>3</td>\n",
              "      <td>no</td>\n",
              "      <td>39.011902</td>\n",
              "      <td>-98.484246</td>\n",
              "      <td>Kansas</td>\n",
              "    </tr>\n",
              "    <tr>\n",
              "      <th>2</th>\n",
              "      <td>KS</td>\n",
              "      <td>92</td>\n",
              "      <td>408</td>\n",
              "      <td>yes</td>\n",
              "      <td>no</td>\n",
              "      <td>0</td>\n",
              "      <td>62.6</td>\n",
              "      <td>111</td>\n",
              "      <td>180.6</td>\n",
              "      <td>126</td>\n",
              "      <td>221.7</td>\n",
              "      <td>80</td>\n",
              "      <td>10.4</td>\n",
              "      <td>2</td>\n",
              "      <td>1</td>\n",
              "      <td>yes</td>\n",
              "      <td>39.011902</td>\n",
              "      <td>-98.484246</td>\n",
              "      <td>Kansas</td>\n",
              "    </tr>\n",
              "    <tr>\n",
              "      <th>3</th>\n",
              "      <td>KS</td>\n",
              "      <td>137</td>\n",
              "      <td>408</td>\n",
              "      <td>no</td>\n",
              "      <td>no</td>\n",
              "      <td>0</td>\n",
              "      <td>205.9</td>\n",
              "      <td>88</td>\n",
              "      <td>209.3</td>\n",
              "      <td>86</td>\n",
              "      <td>289.9</td>\n",
              "      <td>84</td>\n",
              "      <td>14.5</td>\n",
              "      <td>4</td>\n",
              "      <td>2</td>\n",
              "      <td>no</td>\n",
              "      <td>39.011902</td>\n",
              "      <td>-98.484246</td>\n",
              "      <td>Kansas</td>\n",
              "    </tr>\n",
              "    <tr>\n",
              "      <th>4</th>\n",
              "      <td>KS</td>\n",
              "      <td>132</td>\n",
              "      <td>415</td>\n",
              "      <td>no</td>\n",
              "      <td>no</td>\n",
              "      <td>0</td>\n",
              "      <td>83.4</td>\n",
              "      <td>110</td>\n",
              "      <td>232.2</td>\n",
              "      <td>137</td>\n",
              "      <td>146.7</td>\n",
              "      <td>114</td>\n",
              "      <td>7.6</td>\n",
              "      <td>5</td>\n",
              "      <td>1</td>\n",
              "      <td>no</td>\n",
              "      <td>39.011902</td>\n",
              "      <td>-98.484246</td>\n",
              "      <td>Kansas</td>\n",
              "    </tr>\n",
              "  </tbody>\n",
              "</table>\n",
              "</div>"
            ],
            "text/plain": [
              "  State  Account_Length  Area_Code  ...   Latitude  Longitude    Name\n",
              "0    KS             128        415  ...  39.011902 -98.484246  Kansas\n",
              "1    KS              70        408  ...  39.011902 -98.484246  Kansas\n",
              "2    KS              92        408  ...  39.011902 -98.484246  Kansas\n",
              "3    KS             137        408  ...  39.011902 -98.484246  Kansas\n",
              "4    KS             132        415  ...  39.011902 -98.484246  Kansas\n",
              "\n",
              "[5 rows x 19 columns]"
            ]
          },
          "metadata": {
            "tags": []
          },
          "execution_count": 54
        }
      ]
    },
    {
      "cell_type": "markdown",
      "metadata": {
        "Collapsed": "false",
        "id": "cTIq5V4H5Y5s",
        "colab_type": "text"
      },
      "source": [
        "Replace the binary target and the two binary features with numerical values."
      ]
    },
    {
      "cell_type": "code",
      "metadata": {
        "Collapsed": "false",
        "pycharm": {
          "is_executing": false
        },
        "id": "g29TGi2S5Y5u",
        "colab_type": "code",
        "colab": {}
      },
      "source": [
        "for c in [\"Intl_Plan\", \"VMail_Plan\", \"Churn\"]:\n",
        "    if df_all[c].dtype == 'object':\n",
        "        df_all[c] = df_all[c].map( {\"no\":0, \"yes\":1} )"
      ],
      "execution_count": 0,
      "outputs": []
    },
    {
      "cell_type": "code",
      "metadata": {
        "Collapsed": "false",
        "pycharm": {
          "is_executing": false
        },
        "id": "HwdT-x3g5Y53",
        "colab_type": "code",
        "colab": {
          "base_uri": "https://localhost:8080/",
          "height": 226
        },
        "outputId": "b913c705-3c66-49c5-81b6-92d3eda34ed4"
      },
      "source": [
        "df_all.head()"
      ],
      "execution_count": 56,
      "outputs": [
        {
          "output_type": "execute_result",
          "data": {
            "text/html": [
              "<div>\n",
              "<style scoped>\n",
              "    .dataframe tbody tr th:only-of-type {\n",
              "        vertical-align: middle;\n",
              "    }\n",
              "\n",
              "    .dataframe tbody tr th {\n",
              "        vertical-align: top;\n",
              "    }\n",
              "\n",
              "    .dataframe thead th {\n",
              "        text-align: right;\n",
              "    }\n",
              "</style>\n",
              "<table border=\"1\" class=\"dataframe\">\n",
              "  <thead>\n",
              "    <tr style=\"text-align: right;\">\n",
              "      <th></th>\n",
              "      <th>State</th>\n",
              "      <th>Account_Length</th>\n",
              "      <th>Area_Code</th>\n",
              "      <th>Intl_Plan</th>\n",
              "      <th>VMail_Plan</th>\n",
              "      <th>VMail_Message</th>\n",
              "      <th>Day_Mins</th>\n",
              "      <th>Day_Calls</th>\n",
              "      <th>Eve_Mins</th>\n",
              "      <th>Eve_Calls</th>\n",
              "      <th>Night_Mins</th>\n",
              "      <th>Night_Calls</th>\n",
              "      <th>Intl_Mins</th>\n",
              "      <th>Intl_Calls</th>\n",
              "      <th>Cust_Serv_Calls</th>\n",
              "      <th>Churn</th>\n",
              "      <th>Latitude</th>\n",
              "      <th>Longitude</th>\n",
              "      <th>Name</th>\n",
              "    </tr>\n",
              "  </thead>\n",
              "  <tbody>\n",
              "    <tr>\n",
              "      <th>0</th>\n",
              "      <td>KS</td>\n",
              "      <td>128</td>\n",
              "      <td>415</td>\n",
              "      <td>0</td>\n",
              "      <td>1</td>\n",
              "      <td>25</td>\n",
              "      <td>265.1</td>\n",
              "      <td>110</td>\n",
              "      <td>197.4</td>\n",
              "      <td>99</td>\n",
              "      <td>244.7</td>\n",
              "      <td>91</td>\n",
              "      <td>10.0</td>\n",
              "      <td>3</td>\n",
              "      <td>1</td>\n",
              "      <td>0</td>\n",
              "      <td>39.011902</td>\n",
              "      <td>-98.484246</td>\n",
              "      <td>Kansas</td>\n",
              "    </tr>\n",
              "    <tr>\n",
              "      <th>1</th>\n",
              "      <td>KS</td>\n",
              "      <td>70</td>\n",
              "      <td>408</td>\n",
              "      <td>0</td>\n",
              "      <td>0</td>\n",
              "      <td>0</td>\n",
              "      <td>232.1</td>\n",
              "      <td>122</td>\n",
              "      <td>292.3</td>\n",
              "      <td>112</td>\n",
              "      <td>201.2</td>\n",
              "      <td>112</td>\n",
              "      <td>0.0</td>\n",
              "      <td>0</td>\n",
              "      <td>3</td>\n",
              "      <td>0</td>\n",
              "      <td>39.011902</td>\n",
              "      <td>-98.484246</td>\n",
              "      <td>Kansas</td>\n",
              "    </tr>\n",
              "    <tr>\n",
              "      <th>2</th>\n",
              "      <td>KS</td>\n",
              "      <td>92</td>\n",
              "      <td>408</td>\n",
              "      <td>1</td>\n",
              "      <td>0</td>\n",
              "      <td>0</td>\n",
              "      <td>62.6</td>\n",
              "      <td>111</td>\n",
              "      <td>180.6</td>\n",
              "      <td>126</td>\n",
              "      <td>221.7</td>\n",
              "      <td>80</td>\n",
              "      <td>10.4</td>\n",
              "      <td>2</td>\n",
              "      <td>1</td>\n",
              "      <td>1</td>\n",
              "      <td>39.011902</td>\n",
              "      <td>-98.484246</td>\n",
              "      <td>Kansas</td>\n",
              "    </tr>\n",
              "    <tr>\n",
              "      <th>3</th>\n",
              "      <td>KS</td>\n",
              "      <td>137</td>\n",
              "      <td>408</td>\n",
              "      <td>0</td>\n",
              "      <td>0</td>\n",
              "      <td>0</td>\n",
              "      <td>205.9</td>\n",
              "      <td>88</td>\n",
              "      <td>209.3</td>\n",
              "      <td>86</td>\n",
              "      <td>289.9</td>\n",
              "      <td>84</td>\n",
              "      <td>14.5</td>\n",
              "      <td>4</td>\n",
              "      <td>2</td>\n",
              "      <td>0</td>\n",
              "      <td>39.011902</td>\n",
              "      <td>-98.484246</td>\n",
              "      <td>Kansas</td>\n",
              "    </tr>\n",
              "    <tr>\n",
              "      <th>4</th>\n",
              "      <td>KS</td>\n",
              "      <td>132</td>\n",
              "      <td>415</td>\n",
              "      <td>0</td>\n",
              "      <td>0</td>\n",
              "      <td>0</td>\n",
              "      <td>83.4</td>\n",
              "      <td>110</td>\n",
              "      <td>232.2</td>\n",
              "      <td>137</td>\n",
              "      <td>146.7</td>\n",
              "      <td>114</td>\n",
              "      <td>7.6</td>\n",
              "      <td>5</td>\n",
              "      <td>1</td>\n",
              "      <td>0</td>\n",
              "      <td>39.011902</td>\n",
              "      <td>-98.484246</td>\n",
              "      <td>Kansas</td>\n",
              "    </tr>\n",
              "  </tbody>\n",
              "</table>\n",
              "</div>"
            ],
            "text/plain": [
              "  State  Account_Length  Area_Code  ...   Latitude  Longitude    Name\n",
              "0    KS             128        415  ...  39.011902 -98.484246  Kansas\n",
              "1    KS              70        408  ...  39.011902 -98.484246  Kansas\n",
              "2    KS              92        408  ...  39.011902 -98.484246  Kansas\n",
              "3    KS             137        408  ...  39.011902 -98.484246  Kansas\n",
              "4    KS             132        415  ...  39.011902 -98.484246  Kansas\n",
              "\n",
              "[5 rows x 19 columns]"
            ]
          },
          "metadata": {
            "tags": []
          },
          "execution_count": 56
        }
      ]
    },
    {
      "cell_type": "code",
      "metadata": {
        "Collapsed": "false",
        "pycharm": {
          "is_executing": false
        },
        "id": "jhsuseKP5Y6C",
        "colab_type": "code",
        "colab": {}
      },
      "source": [
        "# save data for comparision with R model \n",
        "if False:\n",
        "    target = \"Churn\"\n",
        "    from sklearn.model_selection import train_test_split\n",
        "    df_train, df_test = train_test_split(df_all, stratify=df_all[target], test_size=.25, random_state=666)\n",
        "    open (\"data/churn_train.csv\", \"wt\").write(df_train.to_csv())\n",
        "    open (\"data/churn_test.csv\", \"wt\").write(df_test.to_csv())"
      ],
      "execution_count": 0,
      "outputs": []
    },
    {
      "cell_type": "markdown",
      "metadata": {
        "Collapsed": "false",
        "id": "P4BfCtW85Y6K",
        "colab_type": "text"
      },
      "source": [
        "## Pre-Processing Data"
      ]
    },
    {
      "cell_type": "code",
      "metadata": {
        "Collapsed": "false",
        "pycharm": {
          "is_executing": false
        },
        "id": "3F7fnU--5Y6M",
        "colab_type": "code",
        "colab": {}
      },
      "source": [
        "target = \"Churn\"\n",
        "attributes = df_all.columns.tolist()\n",
        "attributes.remove(target) \n",
        "\n",
        "df_model = df_all.loc[:, attributes + [target]]"
      ],
      "execution_count": 0,
      "outputs": []
    },
    {
      "cell_type": "markdown",
      "metadata": {
        "Collapsed": "false",
        "id": "GmCq_GVd5Y6W",
        "colab_type": "text"
      },
      "source": [
        "### Side Note - Down-Sampling \n",
        "\n",
        "When a dataset is imbalanced, one can generate a balanced dataset by taking a sample of the larger set."
      ]
    },
    {
      "cell_type": "code",
      "metadata": {
        "Collapsed": "false",
        "pycharm": {
          "is_executing": false
        },
        "id": "14gH_Cez5Y6Y",
        "colab_type": "code",
        "colab": {}
      },
      "source": [
        "#df_balanced_down_sampling = pd.concat ([\n",
        "#    df_all[df_all.Churn==0].sample(n=sum(df_all.Churn==1), random_state=TRAIN_TEST_SEED),\n",
        "#    df_all[df_all.Churn==1]])"
      ],
      "execution_count": 0,
      "outputs": []
    },
    {
      "cell_type": "markdown",
      "metadata": {
        "Collapsed": "false",
        "id": "tvA9ilYW5Y6g",
        "colab_type": "text"
      },
      "source": [
        "### Train-Test Split"
      ]
    },
    {
      "cell_type": "code",
      "metadata": {
        "Collapsed": "false",
        "pycharm": {
          "is_executing": false
        },
        "id": "r97kW6ng5Y6j",
        "colab_type": "code",
        "colab": {}
      },
      "source": [
        "from sklearn.model_selection import train_test_split\n",
        "\n",
        "df_train, df_test = train_test_split(df_model, stratify=df_model[target], test_size=.50, random_state=TRAIN_TEST_SEED)"
      ],
      "execution_count": 0,
      "outputs": []
    },
    {
      "cell_type": "markdown",
      "metadata": {
        "Collapsed": "false",
        "id": "CCVEzOUb5Y6r",
        "colab_type": "text"
      },
      "source": [
        "## Feature_Engineering \n",
        "\n",
        "Features engineering and selection decision is carried out on __df_train__ ONLY, but resulting operations should be applied to both __df_train__ and __df_test__. The simplest way to do this (without repeating code) is to apply operations to __df_model__ and repeat the train/test split USING THE SAME SEED."
      ]
    },
    {
      "cell_type": "markdown",
      "metadata": {
        "Collapsed": "false",
        "id": "Y7EMDbpZ5Y6t",
        "colab_type": "text"
      },
      "source": [
        "### New Feature - Cranky Triskaidekaphobias\n",
        "\n",
        "Would a feature indicating customers who complain and avoid the number 13 be useful in predicting Churn?\n",
        "\n",
        "This is a silly feature, but illustrates the general procedure"
      ]
    },
    {
      "cell_type": "code",
      "metadata": {
        "Collapsed": "false",
        "pycharm": {
          "is_executing": false
        },
        "id": "6SJM6_o15Y6w",
        "colab_type": "code",
        "colab": {
          "base_uri": "https://localhost:8080/",
          "height": 0
        },
        "outputId": "11338a26-c67c-483b-88fa-1334c3dcb8ba"
      },
      "source": [
        "my_query = df_model.query('Cust_Serv_Calls>0 & Day_Calls!=13 & Eve_Calls!=13 & Night_Calls!=13 & Intl_Calls!=13')\n",
        "my_query.head()"
      ],
      "execution_count": 61,
      "outputs": [
        {
          "output_type": "execute_result",
          "data": {
            "text/html": [
              "<div>\n",
              "<style scoped>\n",
              "    .dataframe tbody tr th:only-of-type {\n",
              "        vertical-align: middle;\n",
              "    }\n",
              "\n",
              "    .dataframe tbody tr th {\n",
              "        vertical-align: top;\n",
              "    }\n",
              "\n",
              "    .dataframe thead th {\n",
              "        text-align: right;\n",
              "    }\n",
              "</style>\n",
              "<table border=\"1\" class=\"dataframe\">\n",
              "  <thead>\n",
              "    <tr style=\"text-align: right;\">\n",
              "      <th></th>\n",
              "      <th>State</th>\n",
              "      <th>Account_Length</th>\n",
              "      <th>Area_Code</th>\n",
              "      <th>Intl_Plan</th>\n",
              "      <th>VMail_Plan</th>\n",
              "      <th>VMail_Message</th>\n",
              "      <th>Day_Mins</th>\n",
              "      <th>Day_Calls</th>\n",
              "      <th>Eve_Mins</th>\n",
              "      <th>Eve_Calls</th>\n",
              "      <th>Night_Mins</th>\n",
              "      <th>Night_Calls</th>\n",
              "      <th>Intl_Mins</th>\n",
              "      <th>Intl_Calls</th>\n",
              "      <th>Cust_Serv_Calls</th>\n",
              "      <th>Latitude</th>\n",
              "      <th>Longitude</th>\n",
              "      <th>Name</th>\n",
              "      <th>Churn</th>\n",
              "    </tr>\n",
              "  </thead>\n",
              "  <tbody>\n",
              "    <tr>\n",
              "      <th>0</th>\n",
              "      <td>KS</td>\n",
              "      <td>128</td>\n",
              "      <td>415</td>\n",
              "      <td>0</td>\n",
              "      <td>1</td>\n",
              "      <td>25</td>\n",
              "      <td>265.1</td>\n",
              "      <td>110</td>\n",
              "      <td>197.4</td>\n",
              "      <td>99</td>\n",
              "      <td>244.7</td>\n",
              "      <td>91</td>\n",
              "      <td>10.0</td>\n",
              "      <td>3</td>\n",
              "      <td>1</td>\n",
              "      <td>39.011902</td>\n",
              "      <td>-98.484246</td>\n",
              "      <td>Kansas</td>\n",
              "      <td>0</td>\n",
              "    </tr>\n",
              "    <tr>\n",
              "      <th>1</th>\n",
              "      <td>KS</td>\n",
              "      <td>70</td>\n",
              "      <td>408</td>\n",
              "      <td>0</td>\n",
              "      <td>0</td>\n",
              "      <td>0</td>\n",
              "      <td>232.1</td>\n",
              "      <td>122</td>\n",
              "      <td>292.3</td>\n",
              "      <td>112</td>\n",
              "      <td>201.2</td>\n",
              "      <td>112</td>\n",
              "      <td>0.0</td>\n",
              "      <td>0</td>\n",
              "      <td>3</td>\n",
              "      <td>39.011902</td>\n",
              "      <td>-98.484246</td>\n",
              "      <td>Kansas</td>\n",
              "      <td>0</td>\n",
              "    </tr>\n",
              "    <tr>\n",
              "      <th>2</th>\n",
              "      <td>KS</td>\n",
              "      <td>92</td>\n",
              "      <td>408</td>\n",
              "      <td>1</td>\n",
              "      <td>0</td>\n",
              "      <td>0</td>\n",
              "      <td>62.6</td>\n",
              "      <td>111</td>\n",
              "      <td>180.6</td>\n",
              "      <td>126</td>\n",
              "      <td>221.7</td>\n",
              "      <td>80</td>\n",
              "      <td>10.4</td>\n",
              "      <td>2</td>\n",
              "      <td>1</td>\n",
              "      <td>39.011902</td>\n",
              "      <td>-98.484246</td>\n",
              "      <td>Kansas</td>\n",
              "      <td>1</td>\n",
              "    </tr>\n",
              "    <tr>\n",
              "      <th>3</th>\n",
              "      <td>KS</td>\n",
              "      <td>137</td>\n",
              "      <td>408</td>\n",
              "      <td>0</td>\n",
              "      <td>0</td>\n",
              "      <td>0</td>\n",
              "      <td>205.9</td>\n",
              "      <td>88</td>\n",
              "      <td>209.3</td>\n",
              "      <td>86</td>\n",
              "      <td>289.9</td>\n",
              "      <td>84</td>\n",
              "      <td>14.5</td>\n",
              "      <td>4</td>\n",
              "      <td>2</td>\n",
              "      <td>39.011902</td>\n",
              "      <td>-98.484246</td>\n",
              "      <td>Kansas</td>\n",
              "      <td>0</td>\n",
              "    </tr>\n",
              "    <tr>\n",
              "      <th>4</th>\n",
              "      <td>KS</td>\n",
              "      <td>132</td>\n",
              "      <td>415</td>\n",
              "      <td>0</td>\n",
              "      <td>0</td>\n",
              "      <td>0</td>\n",
              "      <td>83.4</td>\n",
              "      <td>110</td>\n",
              "      <td>232.2</td>\n",
              "      <td>137</td>\n",
              "      <td>146.7</td>\n",
              "      <td>114</td>\n",
              "      <td>7.6</td>\n",
              "      <td>5</td>\n",
              "      <td>1</td>\n",
              "      <td>39.011902</td>\n",
              "      <td>-98.484246</td>\n",
              "      <td>Kansas</td>\n",
              "      <td>0</td>\n",
              "    </tr>\n",
              "  </tbody>\n",
              "</table>\n",
              "</div>"
            ],
            "text/plain": [
              "  State  Account_Length  Area_Code  ...  Longitude    Name  Churn\n",
              "0    KS             128        415  ... -98.484246  Kansas      0\n",
              "1    KS              70        408  ... -98.484246  Kansas      0\n",
              "2    KS              92        408  ... -98.484246  Kansas      1\n",
              "3    KS             137        408  ... -98.484246  Kansas      0\n",
              "4    KS             132        415  ... -98.484246  Kansas      0\n",
              "\n",
              "[5 rows x 19 columns]"
            ]
          },
          "metadata": {
            "tags": []
          },
          "execution_count": 61
        }
      ]
    },
    {
      "cell_type": "code",
      "metadata": {
        "Collapsed": "false",
        "pycharm": {
          "is_executing": false
        },
        "id": "f8BhyKsr5Y65",
        "colab_type": "code",
        "colab": {
          "base_uri": "https://localhost:8080/",
          "height": 0
        },
        "outputId": "b78c055b-f5b2-4411-9d31-1d9a1f473482"
      },
      "source": [
        "df_model[\"Cranky_Triskaidekaphobias\"] = df_model.apply (lambda row: (row.Cust_Serv_Calls>0 \n",
        "           and row.Day_Calls!=13 and row.Eve_Calls!=13 \n",
        "           and row.Night_Calls!=13 and row.Intl_Calls!=13), axis=1)\n",
        "df_model.Cranky_Triskaidekaphobias.value_counts(dropna=False)"
      ],
      "execution_count": 62,
      "outputs": [
        {
          "output_type": "execute_result",
          "data": {
            "text/plain": [
              "True     2626\n",
              "False     707\n",
              "Name: Cranky_Triskaidekaphobias, dtype: int64"
            ]
          },
          "metadata": {
            "tags": []
          },
          "execution_count": 62
        }
      ]
    },
    {
      "cell_type": "markdown",
      "metadata": {
        "Collapsed": "false",
        "id": "AwslV0Ty5Y7A",
        "colab_type": "text"
      },
      "source": [
        "### New Feature - ????"
      ]
    },
    {
      "cell_type": "code",
      "metadata": {
        "Collapsed": "false",
        "pycharm": {
          "is_executing": false
        },
        "id": "FGbxgOv65Y7B",
        "colab_type": "code",
        "colab": {}
      },
      "source": [
        ""
      ],
      "execution_count": 0,
      "outputs": []
    },
    {
      "cell_type": "code",
      "metadata": {
        "pycharm": {
          "name": "#%%\n",
          "is_executing": false
        },
        "id": "lXawUmWz5Y7L",
        "colab_type": "code",
        "colab": {}
      },
      "source": [
        ""
      ],
      "execution_count": 0,
      "outputs": []
    },
    {
      "cell_type": "markdown",
      "metadata": {
        "Collapsed": "false",
        "id": "Oba5_fi15Y7S",
        "colab_type": "text"
      },
      "source": [
        "### New Feature - ????"
      ]
    },
    {
      "cell_type": "code",
      "metadata": {
        "Collapsed": "false",
        "pycharm": {
          "is_executing": false
        },
        "id": "UGSPY9R55Y7U",
        "colab_type": "code",
        "colab": {
          "base_uri": "https://localhost:8080/",
          "height": 362
        },
        "outputId": "9e70f104-8d97-491a-ff20-591528d86917"
      },
      "source": [
        "my_query = df_model.query('Eve_Mins+Night_Mins')\n",
        "my_query.head()\n"
      ],
      "execution_count": 63,
      "outputs": [
        {
          "output_type": "stream",
          "text": [
            "/usr/local/lib/python3.6/dist-packages/pandas/core/frame.py:3202: FutureWarning: \n",
            "Passing list-likes to .loc or [] with any missing label will raise\n",
            "KeyError in the future, you can use .reindex() as an alternative.\n",
            "\n",
            "See the documentation here:\n",
            "https://pandas.pydata.org/pandas-docs/stable/user_guide/indexing.html#deprecate-loc-reindex-listlike\n",
            "  new_data = self.loc[res]\n"
          ],
          "name": "stderr"
        },
        {
          "output_type": "execute_result",
          "data": {
            "text/html": [
              "<div>\n",
              "<style scoped>\n",
              "    .dataframe tbody tr th:only-of-type {\n",
              "        vertical-align: middle;\n",
              "    }\n",
              "\n",
              "    .dataframe tbody tr th {\n",
              "        vertical-align: top;\n",
              "    }\n",
              "\n",
              "    .dataframe thead th {\n",
              "        text-align: right;\n",
              "    }\n",
              "</style>\n",
              "<table border=\"1\" class=\"dataframe\">\n",
              "  <thead>\n",
              "    <tr style=\"text-align: right;\">\n",
              "      <th></th>\n",
              "      <th>State</th>\n",
              "      <th>Account_Length</th>\n",
              "      <th>Area_Code</th>\n",
              "      <th>Intl_Plan</th>\n",
              "      <th>VMail_Plan</th>\n",
              "      <th>VMail_Message</th>\n",
              "      <th>Day_Mins</th>\n",
              "      <th>Day_Calls</th>\n",
              "      <th>Eve_Mins</th>\n",
              "      <th>Eve_Calls</th>\n",
              "      <th>Night_Mins</th>\n",
              "      <th>Night_Calls</th>\n",
              "      <th>Intl_Mins</th>\n",
              "      <th>Intl_Calls</th>\n",
              "      <th>Cust_Serv_Calls</th>\n",
              "      <th>Latitude</th>\n",
              "      <th>Longitude</th>\n",
              "      <th>Name</th>\n",
              "      <th>Churn</th>\n",
              "      <th>Cranky_Triskaidekaphobias</th>\n",
              "    </tr>\n",
              "  </thead>\n",
              "  <tbody>\n",
              "    <tr>\n",
              "      <th>442.1</th>\n",
              "      <td>NaN</td>\n",
              "      <td>NaN</td>\n",
              "      <td>NaN</td>\n",
              "      <td>NaN</td>\n",
              "      <td>NaN</td>\n",
              "      <td>NaN</td>\n",
              "      <td>NaN</td>\n",
              "      <td>NaN</td>\n",
              "      <td>NaN</td>\n",
              "      <td>NaN</td>\n",
              "      <td>NaN</td>\n",
              "      <td>NaN</td>\n",
              "      <td>NaN</td>\n",
              "      <td>NaN</td>\n",
              "      <td>NaN</td>\n",
              "      <td>NaN</td>\n",
              "      <td>NaN</td>\n",
              "      <td>NaN</td>\n",
              "      <td>NaN</td>\n",
              "      <td>NaN</td>\n",
              "    </tr>\n",
              "    <tr>\n",
              "      <th>493.5</th>\n",
              "      <td>NaN</td>\n",
              "      <td>NaN</td>\n",
              "      <td>NaN</td>\n",
              "      <td>NaN</td>\n",
              "      <td>NaN</td>\n",
              "      <td>NaN</td>\n",
              "      <td>NaN</td>\n",
              "      <td>NaN</td>\n",
              "      <td>NaN</td>\n",
              "      <td>NaN</td>\n",
              "      <td>NaN</td>\n",
              "      <td>NaN</td>\n",
              "      <td>NaN</td>\n",
              "      <td>NaN</td>\n",
              "      <td>NaN</td>\n",
              "      <td>NaN</td>\n",
              "      <td>NaN</td>\n",
              "      <td>NaN</td>\n",
              "      <td>NaN</td>\n",
              "      <td>NaN</td>\n",
              "    </tr>\n",
              "    <tr>\n",
              "      <th>402.3</th>\n",
              "      <td>NaN</td>\n",
              "      <td>NaN</td>\n",
              "      <td>NaN</td>\n",
              "      <td>NaN</td>\n",
              "      <td>NaN</td>\n",
              "      <td>NaN</td>\n",
              "      <td>NaN</td>\n",
              "      <td>NaN</td>\n",
              "      <td>NaN</td>\n",
              "      <td>NaN</td>\n",
              "      <td>NaN</td>\n",
              "      <td>NaN</td>\n",
              "      <td>NaN</td>\n",
              "      <td>NaN</td>\n",
              "      <td>NaN</td>\n",
              "      <td>NaN</td>\n",
              "      <td>NaN</td>\n",
              "      <td>NaN</td>\n",
              "      <td>NaN</td>\n",
              "      <td>NaN</td>\n",
              "    </tr>\n",
              "    <tr>\n",
              "      <th>499.2</th>\n",
              "      <td>NaN</td>\n",
              "      <td>NaN</td>\n",
              "      <td>NaN</td>\n",
              "      <td>NaN</td>\n",
              "      <td>NaN</td>\n",
              "      <td>NaN</td>\n",
              "      <td>NaN</td>\n",
              "      <td>NaN</td>\n",
              "      <td>NaN</td>\n",
              "      <td>NaN</td>\n",
              "      <td>NaN</td>\n",
              "      <td>NaN</td>\n",
              "      <td>NaN</td>\n",
              "      <td>NaN</td>\n",
              "      <td>NaN</td>\n",
              "      <td>NaN</td>\n",
              "      <td>NaN</td>\n",
              "      <td>NaN</td>\n",
              "      <td>NaN</td>\n",
              "      <td>NaN</td>\n",
              "    </tr>\n",
              "    <tr>\n",
              "      <th>378.9</th>\n",
              "      <td>NaN</td>\n",
              "      <td>NaN</td>\n",
              "      <td>NaN</td>\n",
              "      <td>NaN</td>\n",
              "      <td>NaN</td>\n",
              "      <td>NaN</td>\n",
              "      <td>NaN</td>\n",
              "      <td>NaN</td>\n",
              "      <td>NaN</td>\n",
              "      <td>NaN</td>\n",
              "      <td>NaN</td>\n",
              "      <td>NaN</td>\n",
              "      <td>NaN</td>\n",
              "      <td>NaN</td>\n",
              "      <td>NaN</td>\n",
              "      <td>NaN</td>\n",
              "      <td>NaN</td>\n",
              "      <td>NaN</td>\n",
              "      <td>NaN</td>\n",
              "      <td>NaN</td>\n",
              "    </tr>\n",
              "  </tbody>\n",
              "</table>\n",
              "</div>"
            ],
            "text/plain": [
              "      State  Account_Length  Area_Code  ...  Name  Churn  Cranky_Triskaidekaphobias\n",
              "442.1   NaN             NaN        NaN  ...   NaN    NaN                        NaN\n",
              "493.5   NaN             NaN        NaN  ...   NaN    NaN                        NaN\n",
              "402.3   NaN             NaN        NaN  ...   NaN    NaN                        NaN\n",
              "499.2   NaN             NaN        NaN  ...   NaN    NaN                        NaN\n",
              "378.9   NaN             NaN        NaN  ...   NaN    NaN                        NaN\n",
              "\n",
              "[5 rows x 20 columns]"
            ]
          },
          "metadata": {
            "tags": []
          },
          "execution_count": 63
        }
      ]
    },
    {
      "cell_type": "code",
      "metadata": {
        "pycharm": {
          "name": "#%%\n",
          "is_executing": false
        },
        "id": "kSvqfATj5Y7e",
        "colab_type": "code",
        "colab": {
          "base_uri": "https://localhost:8080/",
          "height": 249
        },
        "outputId": "54c96130-5ff6-487d-f57f-e23de942d4c0"
      },
      "source": [
        "df_model[\"All_Mins\"]=df_model.apply(lambda row:(row.Day_Mins and row.Eve_Mins and row.Night_Mins and row.Intl_Mins),axis=1)\n",
        "df_model.All_Mins.value_counts(dropna=False)\n"
      ],
      "execution_count": 64,
      "outputs": [
        {
          "output_type": "execute_result",
          "data": {
            "text/plain": [
              "10.0    62\n",
              "11.3    59\n",
              "9.8     56\n",
              "10.9    56\n",
              "10.1    53\n",
              "        ..\n",
              "17.2     1\n",
              "1.3      1\n",
              "18.4     1\n",
              "3.4      1\n",
              "2.7      1\n",
              "Name: All_Mins, Length: 162, dtype: int64"
            ]
          },
          "metadata": {
            "tags": []
          },
          "execution_count": 64
        }
      ]
    },
    {
      "cell_type": "code",
      "metadata": {
        "pycharm": {
          "name": "#%%\n",
          "is_executing": false
        },
        "id": "9h4WG8PU5Y7n",
        "colab_type": "code",
        "colab": {}
      },
      "source": [
        ""
      ],
      "execution_count": 0,
      "outputs": []
    },
    {
      "cell_type": "markdown",
      "metadata": {
        "Collapsed": "false",
        "id": "QHILDyxq5Y7v",
        "colab_type": "text"
      },
      "source": [
        "### New Feature - ????"
      ]
    },
    {
      "cell_type": "code",
      "metadata": {
        "Collapsed": "false",
        "pycharm": {
          "is_executing": false
        },
        "id": "DwKECZ2K5Y7w",
        "colab_type": "code",
        "colab": {}
      },
      "source": [
        "#df_model[\"magic\"]=df_model.apply(lambda r:())\n"
      ],
      "execution_count": 0,
      "outputs": []
    },
    {
      "cell_type": "code",
      "metadata": {
        "pycharm": {
          "name": "#%%\n",
          "is_executing": false
        },
        "id": "M-E8q3h25Y72",
        "colab_type": "code",
        "colab": {
          "base_uri": "https://localhost:8080/",
          "height": 75
        },
        "outputId": "3c5d9f39-bad5-4c3a-9ae9-9befb62bff2d"
      },
      "source": [
        "df_model['boo']=df_model.apply(lambda v:(v.Account_Length>=127 and v.VMail_Plan==0 + v.Intl_Plan==0),axis=1)\n",
        "df_model.boo.value_counts(dropna=True)"
      ],
      "execution_count": 65,
      "outputs": [
        {
          "output_type": "execute_result",
          "data": {
            "text/plain": [
              "False    2779\n",
              "True      554\n",
              "Name: boo, dtype: int64"
            ]
          },
          "metadata": {
            "tags": []
          },
          "execution_count": 65
        }
      ]
    },
    {
      "cell_type": "code",
      "metadata": {
        "pycharm": {
          "name": "#%%\n",
          "is_executing": false
        },
        "id": "Un792f-H5Y7_",
        "colab_type": "code",
        "colab": {
          "base_uri": "https://localhost:8080/",
          "height": 249
        },
        "outputId": "16c9f6d9-68c9-40c6-9117-ea2fa9c3c506"
      },
      "source": [
        "df_model['percentofcalls']=df_model.apply(lambda f:(f.All_Mins if(f.Cust_Serv_Calls>3)else f.Cust_Serv_Calls==4>9),axis=1)\n",
        "df_model.percentofcalls.value_counts(dropna=False)\n"
      ],
      "execution_count": 66,
      "outputs": [
        {
          "output_type": "execute_result",
          "data": {
            "text/plain": [
              "False    3068\n",
              "11.5        9\n",
              "9.7         9\n",
              "10.3        8\n",
              "9.2         7\n",
              "         ... \n",
              "9.8         1\n",
              "4.7         1\n",
              "4.1         1\n",
              "14.5        1\n",
              "12.9        1\n",
              "Name: percentofcalls, Length: 101, dtype: int64"
            ]
          },
          "metadata": {
            "tags": []
          },
          "execution_count": 66
        }
      ]
    },
    {
      "cell_type": "code",
      "metadata": {
        "pycharm": {
          "name": "#%%\n",
          "is_executing": false
        },
        "id": "58V6e_qj5Y8I",
        "colab_type": "code",
        "colab": {
          "base_uri": "https://localhost:8080/",
          "height": 75
        },
        "outputId": "1abed493-30bb-4a18-b3fc-865ab2541d2d"
      },
      "source": [
        "df_model[\"concats\"]=df_model.apply(lambda k:(k.VMail_Plan==1 and k.VMail_Message<=20),axis=1)\n",
        "df_model.concats.value_counts()\n"
      ],
      "execution_count": 67,
      "outputs": [
        {
          "output_type": "execute_result",
          "data": {
            "text/plain": [
              "False    3224\n",
              "True      109\n",
              "Name: concats, dtype: int64"
            ]
          },
          "metadata": {
            "tags": []
          },
          "execution_count": 67
        }
      ]
    },
    {
      "cell_type": "code",
      "metadata": {
        "pycharm": {
          "name": "#%%\n",
          "is_executing": false
        },
        "id": "NzOlOODF5Y8P",
        "colab_type": "code",
        "colab": {
          "base_uri": "https://localhost:8080/",
          "height": 249
        },
        "outputId": "7057b2f6-6cab-42cc-9d30-31830240946f"
      },
      "source": [
        "df_model['totandintl']=df_model.apply(lambda d:(d.All_Mins + d.boo),axis=1)\n",
        "df_model.totandintl.value_counts(dropna=False)"
      ],
      "execution_count": 68,
      "outputs": [
        {
          "output_type": "execute_result",
          "data": {
            "text/plain": [
              "11.3    62\n",
              "10.0    58\n",
              "11.0    58\n",
              "9.8     56\n",
              "11.1    56\n",
              "        ..\n",
              "3.9      1\n",
              "2.7      1\n",
              "16.8     1\n",
              "19.3     1\n",
              "17.9     1\n",
              "Name: totandintl, Length: 162, dtype: int64"
            ]
          },
          "metadata": {
            "tags": []
          },
          "execution_count": 68
        }
      ]
    },
    {
      "cell_type": "markdown",
      "metadata": {
        "Collapsed": "false",
        "id": "JWgbO19J5Y8X",
        "colab_type": "text"
      },
      "source": [
        "### New Feature - ????"
      ]
    },
    {
      "cell_type": "code",
      "metadata": {
        "Collapsed": "false",
        "pycharm": {
          "is_executing": false
        },
        "id": "yttE-Y4L5Y8Z",
        "colab_type": "code",
        "colab": {
          "base_uri": "https://localhost:8080/",
          "height": 536
        },
        "outputId": "5e85e51f-0970-4365-f6b9-4a0b5f0f5a29"
      },
      "source": [
        "# This thing kinda helps as if the params for feature are wrong it blinds you :)\n",
        "\n",
        "corrmat = df_model.corr(method='pearson')\n",
        "f, ax = plt.subplots(figsize=(9, 6))\n",
        "\n",
        "sns.heatmap(corrmat,annot=False, vmax=1., fmt=\".2f\", square=False)\n",
        "plt.title(\"Important variables correlation map\", fontsize=15)\n",
        "plt.show()\n"
      ],
      "execution_count": 69,
      "outputs": [
        {
          "output_type": "display_data",
          "data": {
            "image/png": "[encoded data removed]",
            "text/plain": [
              "<Figure size 648x432 with 2 Axes>"
            ]
          },
          "metadata": {
            "tags": []
          }
        }
      ]
    },
    {
      "cell_type": "markdown",
      "metadata": {
        "Collapsed": "false",
        "id": "GC9lp5VL5Y8f",
        "colab_type": "text"
      },
      "source": [
        "### New Feature - ????"
      ]
    },
    {
      "cell_type": "code",
      "metadata": {
        "Collapsed": "false",
        "pycharm": {
          "is_executing": false
        },
        "id": "cjAG3a7B5Y8i",
        "colab_type": "code",
        "colab": {}
      },
      "source": [
        ""
      ],
      "execution_count": 0,
      "outputs": []
    },
    {
      "cell_type": "markdown",
      "metadata": {
        "Collapsed": "false",
        "id": "tS2P-LIj5Y8o",
        "colab_type": "text"
      },
      "source": [
        "### New Feature - ????"
      ]
    },
    {
      "cell_type": "code",
      "metadata": {
        "Collapsed": "false",
        "pycharm": {
          "is_executing": false
        },
        "id": "n5ctssTB5Y8p",
        "colab_type": "code",
        "colab": {}
      },
      "source": [
        ""
      ],
      "execution_count": 0,
      "outputs": []
    },
    {
      "cell_type": "markdown",
      "metadata": {
        "Collapsed": "false",
        "id": "FluLtvyX5Y8s",
        "colab_type": "text"
      },
      "source": [
        "## Model Training"
      ]
    },
    {
      "cell_type": "code",
      "metadata": {
        "Collapsed": "false",
        "pycharm": {
          "is_executing": false
        },
        "id": "fhw6IgyH5Y8u",
        "colab_type": "code",
        "colab": {
          "base_uri": "https://localhost:8080/",
          "height": 114
        },
        "outputId": "2b82299c-6605-4287-8725-3c4216df4fe5"
      },
      "source": [
        "print (df_model.columns.values)"
      ],
      "execution_count": 70,
      "outputs": [
        {
          "output_type": "stream",
          "text": [
            "['State' 'Account_Length' 'Area_Code' 'Intl_Plan' 'VMail_Plan'\n",
            " 'VMail_Message' 'Day_Mins' 'Day_Calls' 'Eve_Mins' 'Eve_Calls'\n",
            " 'Night_Mins' 'Night_Calls' 'Intl_Mins' 'Intl_Calls' 'Cust_Serv_Calls'\n",
            " 'Latitude' 'Longitude' 'Name' 'Churn' 'Cranky_Triskaidekaphobias'\n",
            " 'All_Mins' 'boo' 'percentofcalls' 'concats' 'totandintl']\n"
          ],
          "name": "stdout"
        }
      ]
    },
    {
      "cell_type": "markdown",
      "metadata": {
        "Collapsed": "false",
        "id": "FiQlsU5H5Y8y",
        "colab_type": "text"
      },
      "source": [
        "### Train-Test Split\n",
        "\n",
        "REPEAT train/test split from above so that both data subsets have the modified feature set."
      ]
    },
    {
      "cell_type": "code",
      "metadata": {
        "Collapsed": "false",
        "pycharm": {
          "is_executing": false
        },
        "id": "loa7EhdH5Y80",
        "colab_type": "code",
        "colab": {
          "base_uri": "https://localhost:8080/",
          "height": 0
        },
        "outputId": "ded72120-ef46-4ec8-8b94-448244eff52b"
      },
      "source": [
        "df_train, df_test = train_test_split(df_model, stratify=df_model[target], test_size=.50, random_state=TRAIN_TEST_SEED)\n",
        "attributes = df_model.columns.tolist()\n",
        "attributes.remove(target)\n",
        "for column in [\"State\", \"longitude\", \"latitude\"]:\n",
        "    if column in attributes: attributes.remove(column)\n",
        "print(attributes)"
      ],
      "execution_count": 71,
      "outputs": [
        {
          "output_type": "stream",
          "text": [
            "['Account_Length', 'Area_Code', 'Intl_Plan', 'VMail_Plan', 'VMail_Message', 'Day_Mins', 'Day_Calls', 'Eve_Mins', 'Eve_Calls', 'Night_Mins', 'Night_Calls', 'Intl_Mins', 'Intl_Calls', 'Cust_Serv_Calls', 'Latitude', 'Longitude', 'Name', 'Cranky_Triskaidekaphobias', 'All_Mins', 'boo', 'percentofcalls', 'concats', 'totandintl']\n"
          ],
          "name": "stdout"
        }
      ]
    },
    {
      "cell_type": "code",
      "metadata": {
        "Collapsed": "false",
        "pycharm": {
          "is_executing": false
        },
        "id": "UEbshBt55Y84",
        "colab_type": "code",
        "colab": {
          "base_uri": "https://localhost:8080/",
          "height": 0
        },
        "outputId": "7ad17a91-7b39-41db-f256-479b6df825b6"
      },
      "source": [
        "df_model.head()"
      ],
      "execution_count": 72,
      "outputs": [
        {
          "output_type": "execute_result",
          "data": {
            "text/html": [
              "<div>\n",
              "<style scoped>\n",
              "    .dataframe tbody tr th:only-of-type {\n",
              "        vertical-align: middle;\n",
              "    }\n",
              "\n",
              "    .dataframe tbody tr th {\n",
              "        vertical-align: top;\n",
              "    }\n",
              "\n",
              "    .dataframe thead th {\n",
              "        text-align: right;\n",
              "    }\n",
              "</style>\n",
              "<table border=\"1\" class=\"dataframe\">\n",
              "  <thead>\n",
              "    <tr style=\"text-align: right;\">\n",
              "      <th></th>\n",
              "      <th>State</th>\n",
              "      <th>Account_Length</th>\n",
              "      <th>Area_Code</th>\n",
              "      <th>Intl_Plan</th>\n",
              "      <th>VMail_Plan</th>\n",
              "      <th>VMail_Message</th>\n",
              "      <th>Day_Mins</th>\n",
              "      <th>Day_Calls</th>\n",
              "      <th>Eve_Mins</th>\n",
              "      <th>Eve_Calls</th>\n",
              "      <th>Night_Mins</th>\n",
              "      <th>Night_Calls</th>\n",
              "      <th>Intl_Mins</th>\n",
              "      <th>Intl_Calls</th>\n",
              "      <th>Cust_Serv_Calls</th>\n",
              "      <th>Latitude</th>\n",
              "      <th>Longitude</th>\n",
              "      <th>Name</th>\n",
              "      <th>Churn</th>\n",
              "      <th>Cranky_Triskaidekaphobias</th>\n",
              "      <th>All_Mins</th>\n",
              "      <th>boo</th>\n",
              "      <th>percentofcalls</th>\n",
              "      <th>concats</th>\n",
              "      <th>totandintl</th>\n",
              "    </tr>\n",
              "  </thead>\n",
              "  <tbody>\n",
              "    <tr>\n",
              "      <th>0</th>\n",
              "      <td>KS</td>\n",
              "      <td>128</td>\n",
              "      <td>415</td>\n",
              "      <td>0</td>\n",
              "      <td>1</td>\n",
              "      <td>25</td>\n",
              "      <td>265.1</td>\n",
              "      <td>110</td>\n",
              "      <td>197.4</td>\n",
              "      <td>99</td>\n",
              "      <td>244.7</td>\n",
              "      <td>91</td>\n",
              "      <td>10.0</td>\n",
              "      <td>3</td>\n",
              "      <td>1</td>\n",
              "      <td>39.011902</td>\n",
              "      <td>-98.484246</td>\n",
              "      <td>Kansas</td>\n",
              "      <td>0</td>\n",
              "      <td>True</td>\n",
              "      <td>10.0</td>\n",
              "      <td>False</td>\n",
              "      <td>False</td>\n",
              "      <td>False</td>\n",
              "      <td>10.0</td>\n",
              "    </tr>\n",
              "    <tr>\n",
              "      <th>1</th>\n",
              "      <td>KS</td>\n",
              "      <td>70</td>\n",
              "      <td>408</td>\n",
              "      <td>0</td>\n",
              "      <td>0</td>\n",
              "      <td>0</td>\n",
              "      <td>232.1</td>\n",
              "      <td>122</td>\n",
              "      <td>292.3</td>\n",
              "      <td>112</td>\n",
              "      <td>201.2</td>\n",
              "      <td>112</td>\n",
              "      <td>0.0</td>\n",
              "      <td>0</td>\n",
              "      <td>3</td>\n",
              "      <td>39.011902</td>\n",
              "      <td>-98.484246</td>\n",
              "      <td>Kansas</td>\n",
              "      <td>0</td>\n",
              "      <td>True</td>\n",
              "      <td>0.0</td>\n",
              "      <td>False</td>\n",
              "      <td>False</td>\n",
              "      <td>False</td>\n",
              "      <td>0.0</td>\n",
              "    </tr>\n",
              "    <tr>\n",
              "      <th>2</th>\n",
              "      <td>KS</td>\n",
              "      <td>92</td>\n",
              "      <td>408</td>\n",
              "      <td>1</td>\n",
              "      <td>0</td>\n",
              "      <td>0</td>\n",
              "      <td>62.6</td>\n",
              "      <td>111</td>\n",
              "      <td>180.6</td>\n",
              "      <td>126</td>\n",
              "      <td>221.7</td>\n",
              "      <td>80</td>\n",
              "      <td>10.4</td>\n",
              "      <td>2</td>\n",
              "      <td>1</td>\n",
              "      <td>39.011902</td>\n",
              "      <td>-98.484246</td>\n",
              "      <td>Kansas</td>\n",
              "      <td>1</td>\n",
              "      <td>True</td>\n",
              "      <td>10.4</td>\n",
              "      <td>False</td>\n",
              "      <td>False</td>\n",
              "      <td>False</td>\n",
              "      <td>10.4</td>\n",
              "    </tr>\n",
              "    <tr>\n",
              "      <th>3</th>\n",
              "      <td>KS</td>\n",
              "      <td>137</td>\n",
              "      <td>408</td>\n",
              "      <td>0</td>\n",
              "      <td>0</td>\n",
              "      <td>0</td>\n",
              "      <td>205.9</td>\n",
              "      <td>88</td>\n",
              "      <td>209.3</td>\n",
              "      <td>86</td>\n",
              "      <td>289.9</td>\n",
              "      <td>84</td>\n",
              "      <td>14.5</td>\n",
              "      <td>4</td>\n",
              "      <td>2</td>\n",
              "      <td>39.011902</td>\n",
              "      <td>-98.484246</td>\n",
              "      <td>Kansas</td>\n",
              "      <td>0</td>\n",
              "      <td>True</td>\n",
              "      <td>14.5</td>\n",
              "      <td>True</td>\n",
              "      <td>False</td>\n",
              "      <td>False</td>\n",
              "      <td>15.5</td>\n",
              "    </tr>\n",
              "    <tr>\n",
              "      <th>4</th>\n",
              "      <td>KS</td>\n",
              "      <td>132</td>\n",
              "      <td>415</td>\n",
              "      <td>0</td>\n",
              "      <td>0</td>\n",
              "      <td>0</td>\n",
              "      <td>83.4</td>\n",
              "      <td>110</td>\n",
              "      <td>232.2</td>\n",
              "      <td>137</td>\n",
              "      <td>146.7</td>\n",
              "      <td>114</td>\n",
              "      <td>7.6</td>\n",
              "      <td>5</td>\n",
              "      <td>1</td>\n",
              "      <td>39.011902</td>\n",
              "      <td>-98.484246</td>\n",
              "      <td>Kansas</td>\n",
              "      <td>0</td>\n",
              "      <td>True</td>\n",
              "      <td>7.6</td>\n",
              "      <td>True</td>\n",
              "      <td>False</td>\n",
              "      <td>False</td>\n",
              "      <td>8.6</td>\n",
              "    </tr>\n",
              "  </tbody>\n",
              "</table>\n",
              "</div>"
            ],
            "text/plain": [
              "  State  Account_Length  Area_Code  ...  percentofcalls  concats  totandintl\n",
              "0    KS             128        415  ...           False    False        10.0\n",
              "1    KS              70        408  ...           False    False         0.0\n",
              "2    KS              92        408  ...           False    False        10.4\n",
              "3    KS             137        408  ...           False    False        15.5\n",
              "4    KS             132        415  ...           False    False         8.6\n",
              "\n",
              "[5 rows x 25 columns]"
            ]
          },
          "metadata": {
            "tags": []
          },
          "execution_count": 72
        }
      ]
    },
    {
      "cell_type": "code",
      "metadata": {
        "Collapsed": "false",
        "pycharm": {
          "is_executing": false
        },
        "id": "FaI9ZW925Y88",
        "colab_type": "code",
        "colab": {}
      },
      "source": [
        "attributes = df_model.columns.tolist()\n",
        "for c in [\"Churn\", \"State\", \"Name\"]: \n",
        "    if c in attributes: attributes.remove(c)\n",
        "\n",
        "from sklearn.preprocessing import StandardScaler\n",
        "\n",
        "scaler = StandardScaler()\n",
        "\n",
        "X_train = scaler.fit_transform(df_train.loc[:,attributes].astype(float))\n",
        "y_train = df_train.Churn.values\n",
        "\n",
        "X_test = scaler.transform(df_test.loc[:,attributes].astype(float))\n",
        "y_test = df_test.Churn.values"
      ],
      "execution_count": 0,
      "outputs": []
    },
    {
      "cell_type": "markdown",
      "metadata": {
        "Collapsed": "false",
        "id": "k8-Bii1Y5Y9B",
        "colab_type": "text"
      },
      "source": [
        "### Evaluation\n",
        "\n",
        "We spoke about the AUC metric last week. This week we will focus on recall - it is easier and probably more relevant in this case and we want to focus on identifying as many Churn customers as possible."
      ]
    },
    {
      "cell_type": "code",
      "metadata": {
        "Collapsed": "false",
        "pycharm": {
          "is_executing": false
        },
        "id": "iUsUroAn5Y9C",
        "colab_type": "code",
        "colab": {}
      },
      "source": [
        "from sklearn.model_selection import cross_val_score\n",
        "from sklearn.metrics import recall_score, roc_auc_score\n",
        "\n",
        "models = []"
      ],
      "execution_count": 0,
      "outputs": []
    },
    {
      "cell_type": "markdown",
      "metadata": {
        "Collapsed": "false",
        "id": "0jzdGHPa5Y9G",
        "colab_type": "text"
      },
      "source": [
        "### Training - First Iteration\n",
        "\n",
        "Just fix a few of our standard classifiers, using default/semi-sane parameters."
      ]
    },
    {
      "cell_type": "markdown",
      "metadata": {
        "Collapsed": "false",
        "id": "V1k1VUbc5Y9H",
        "colab_type": "text"
      },
      "source": [
        "#### Logistic Regression"
      ]
    },
    {
      "cell_type": "code",
      "metadata": {
        "Collapsed": "false",
        "pycharm": {
          "is_executing": false
        },
        "id": "yw_s3Cnc5Y9I",
        "colab_type": "code",
        "colab": {}
      },
      "source": [
        "from sklearn.linear_model import LogisticRegression\n",
        "models.append( {\"name\":\"LogisticRegression\", \"ref\": LogisticRegression(solver=\"lbfgs\")} )"
      ],
      "execution_count": 0,
      "outputs": []
    },
    {
      "cell_type": "markdown",
      "metadata": {
        "Collapsed": "false",
        "id": "tVVqzQn55Y9M",
        "colab_type": "text"
      },
      "source": [
        "#### Support Vector Machines"
      ]
    },
    {
      "cell_type": "code",
      "metadata": {
        "Collapsed": "false",
        "pycharm": {
          "is_executing": false
        },
        "id": "D9BxHKXU5Y9P",
        "colab_type": "code",
        "colab": {}
      },
      "source": [
        "from sklearn.svm import SVC\n",
        "models.append( {\"name\":\"SVC\", \"ref\":SVC(gamma=\"scale\")} )"
      ],
      "execution_count": 0,
      "outputs": []
    },
    {
      "cell_type": "markdown",
      "metadata": {
        "Collapsed": "false",
        "id": "5cAS__7E5Y9S",
        "colab_type": "text"
      },
      "source": [
        "#### Decision Trees"
      ]
    },
    {
      "cell_type": "code",
      "metadata": {
        "Collapsed": "false",
        "pycharm": {
          "is_executing": false
        },
        "id": "bLGn4_D05Y9T",
        "colab_type": "code",
        "colab": {}
      },
      "source": [
        "from sklearn.tree import DecisionTreeClassifier\n",
        "models.append( {\"name\":\"DT (prunned=4)\", \"ref\":DecisionTreeClassifier(criterion='entropy', max_depth=4)} )"
      ],
      "execution_count": 0,
      "outputs": []
    },
    {
      "cell_type": "code",
      "metadata": {
        "Collapsed": "false",
        "pycharm": {
          "is_executing": false
        },
        "id": "ql5_Ma_N5Y9X",
        "colab_type": "code",
        "colab": {
          "base_uri": "https://localhost:8080/",
          "height": 0
        },
        "outputId": "b6462d57-f5d3-4927-a530-ef593b74c346"
      },
      "source": [
        "for model in models:\n",
        "    \n",
        "    crossval_scores = cross_val_score(model[\"ref\"], X_train, y_train, scoring='recall', cv=5)\n",
        "    print (\"\\nModel %s\" % model[\"name\"])\n",
        "    print (\"\\tCV scores %s\" % crossval_scores)\n",
        "    print (\"\\tmean=%.3f std=%.3f\" % (crossval_scores.mean(), crossval_scores.std()))"
      ],
      "execution_count": 78,
      "outputs": [
        {
          "output_type": "stream",
          "text": [
            "\n",
            "Model LogisticRegression\n",
            "\tCV scores [0.14285714 0.25       0.3125     0.14583333 0.27083333]\n",
            "\tmean=0.224 std=0.068\n",
            "\n",
            "Model SVC\n",
            "\tCV scores [0.36734694 0.4375     0.45833333 0.35416667 0.5       ]\n",
            "\tmean=0.423 std=0.055\n",
            "\n",
            "Model DT (prunned=4)\n",
            "\tCV scores [0.36734694 0.58333333 0.5625     0.39583333 0.54166667]\n",
            "\tmean=0.490 std=0.090\n"
          ],
          "name": "stdout"
        }
      ]
    },
    {
      "cell_type": "markdown",
      "metadata": {
        "Collapsed": "false",
        "id": "SrV4gPGv5Y9g",
        "colab_type": "text"
      },
      "source": [
        "### Feature Selection"
      ]
    },
    {
      "cell_type": "code",
      "metadata": {
        "Collapsed": "false",
        "pycharm": {
          "is_executing": false
        },
        "id": "N9cAXeYH5Y9i",
        "colab_type": "code",
        "colab": {}
      },
      "source": [
        "df_train, df_test = train_test_split(df_model, stratify=df_model[target], test_size=.25, random_state=TRAIN_TEST_SEED)\n",
        "\n",
        "X_train = scaler.fit_transform(df_train.loc[:,attributes].astype(float))\n",
        "\n",
        "y_train = df_train.Churn.values\n",
        "\n",
        "X_test = scaler.transform(df_test.loc[:,attributes].astype(float))\n",
        "y_test = df_test.Churn.values"
      ],
      "execution_count": 0,
      "outputs": []
    },
    {
      "cell_type": "code",
      "metadata": {
        "Collapsed": "false",
        "pycharm": {
          "is_executing": false
        },
        "id": "k9WxZBgh5Y9p",
        "colab_type": "code",
        "colab": {
          "base_uri": "https://localhost:8080/",
          "height": 304
        },
        "outputId": "326a8b87-4f03-4502-8cb4-e17680ed291e"
      },
      "source": [
        "from sklearn.model_selection import StratifiedKFold\n",
        "from sklearn.feature_selection import RFECV\n",
        "\n",
        "model = models[2][\"ref\"]\n",
        "\n",
        "rfecv = RFECV(estimator=model, step=1, cv=StratifiedKFold(2), scoring=\"recall\")\n",
        "rfecv.fit(X_train, y_train)\n",
        "print(\"Optimal number of features : %d\" % rfecv.n_features_)\n",
        "\n",
        "# Plot number of features VS. cross-validation scores\n",
        "plt.figure()\n",
        "plt.xlabel(\"Number of features selected\")\n",
        "plt.ylabel(\"Cross validation score\")\n",
        "plt.plot(range(1, len(rfecv.grid_scores_) + 1), rfecv.grid_scores_)\n",
        "plt.show()\n"
      ],
      "execution_count": 80,
      "outputs": [
        {
          "output_type": "stream",
          "text": [
            "Optimal number of features : 5\n"
          ],
          "name": "stdout"
        },
        {
          "output_type": "display_data",
          "data": {
            "image/png": "[encoded data removed]",
            "text/plain": [
              "<Figure size 432x288 with 1 Axes>"
            ]
          },
          "metadata": {
            "tags": []
          }
        }
      ]
    },
    {
      "cell_type": "code",
      "metadata": {
        "Collapsed": "false",
        "pycharm": {
          "is_executing": false
        },
        "id": "NuGCF6fV5Y9u",
        "colab_type": "code",
        "colab": {
          "base_uri": "https://localhost:8080/",
          "height": 36
        },
        "outputId": "76b8b06e-3407-4705-91d2-8c22a3760414"
      },
      "source": [
        "# list of features selected\n",
        "attributes_selected = np.array(attributes)[rfecv.support_].tolist()\n",
        "attributes_selected"
      ],
      "execution_count": 81,
      "outputs": [
        {
          "output_type": "execute_result",
          "data": {
            "text/plain": [
              "['Intl_Plan', 'Day_Mins', 'Eve_Mins', 'All_Mins', 'percentofcalls']"
            ]
          },
          "metadata": {
            "tags": []
          },
          "execution_count": 81
        }
      ]
    },
    {
      "cell_type": "markdown",
      "metadata": {
        "Collapsed": "false",
        "id": "-UrCiiRX5Y-F",
        "colab_type": "text"
      },
      "source": [
        "### Training - After Feature Selection"
      ]
    },
    {
      "cell_type": "code",
      "metadata": {
        "Collapsed": "false",
        "pycharm": {
          "is_executing": false
        },
        "id": "LOjjhDB35Y-H",
        "colab_type": "code",
        "colab": {
          "base_uri": "https://localhost:8080/",
          "height": 439
        },
        "outputId": "74300d15-6339-46ed-e427-276daed2ddc9"
      },
      "source": [
        "TRAIN_TEST_SEED = 42\n",
        "\n",
        "df_model_fs = df_model.loc[:, attributes_selected + [target]]\n",
        "display(df_model_fs.head())\n",
        "\n",
        "# train-test split\n",
        "df_train_fs, df_test_fs = train_test_split(df_model_fs, stratify=df_model_fs[target], test_size=.25, random_state=TRAIN_TEST_SEED)\n",
        "attributes = df_model_fs.columns.tolist()\n",
        "attributes.remove(target)\n",
        "\n",
        "# normalise \n",
        "X_train = scaler.fit_transform(df_train.loc[:,attributes].astype(float))\n",
        "y_train = df_train.Churn.values\n",
        "X_test = scaler.transform(df_test.loc[:,attributes].astype(float))\n",
        "y_test = df_test.Churn.values\n",
        "\n",
        "for model in models:\n",
        "    \n",
        "    crossval_scores = cross_val_score(model[\"ref\"], X_train, y_train, scoring='recall', cv=5)\n",
        "    print (\"\\nModel %s\" % model[\"name\"])\n",
        "    print (\"\\tCV scores %s\" % crossval_scores)\n",
        "    print (\"\\tmean=%.3f std=%.3f\" % (crossval_scores.mean(), crossval_scores.std()))"
      ],
      "execution_count": 82,
      "outputs": [
        {
          "output_type": "display_data",
          "data": {
            "text/html": [
              "<div>\n",
              "<style scoped>\n",
              "    .dataframe tbody tr th:only-of-type {\n",
              "        vertical-align: middle;\n",
              "    }\n",
              "\n",
              "    .dataframe tbody tr th {\n",
              "        vertical-align: top;\n",
              "    }\n",
              "\n",
              "    .dataframe thead th {\n",
              "        text-align: right;\n",
              "    }\n",
              "</style>\n",
              "<table border=\"1\" class=\"dataframe\">\n",
              "  <thead>\n",
              "    <tr style=\"text-align: right;\">\n",
              "      <th></th>\n",
              "      <th>Intl_Plan</th>\n",
              "      <th>Day_Mins</th>\n",
              "      <th>Eve_Mins</th>\n",
              "      <th>All_Mins</th>\n",
              "      <th>percentofcalls</th>\n",
              "      <th>Churn</th>\n",
              "    </tr>\n",
              "  </thead>\n",
              "  <tbody>\n",
              "    <tr>\n",
              "      <th>0</th>\n",
              "      <td>0</td>\n",
              "      <td>265.1</td>\n",
              "      <td>197.4</td>\n",
              "      <td>10.0</td>\n",
              "      <td>False</td>\n",
              "      <td>0</td>\n",
              "    </tr>\n",
              "    <tr>\n",
              "      <th>1</th>\n",
              "      <td>0</td>\n",
              "      <td>232.1</td>\n",
              "      <td>292.3</td>\n",
              "      <td>0.0</td>\n",
              "      <td>False</td>\n",
              "      <td>0</td>\n",
              "    </tr>\n",
              "    <tr>\n",
              "      <th>2</th>\n",
              "      <td>1</td>\n",
              "      <td>62.6</td>\n",
              "      <td>180.6</td>\n",
              "      <td>10.4</td>\n",
              "      <td>False</td>\n",
              "      <td>1</td>\n",
              "    </tr>\n",
              "    <tr>\n",
              "      <th>3</th>\n",
              "      <td>0</td>\n",
              "      <td>205.9</td>\n",
              "      <td>209.3</td>\n",
              "      <td>14.5</td>\n",
              "      <td>False</td>\n",
              "      <td>0</td>\n",
              "    </tr>\n",
              "    <tr>\n",
              "      <th>4</th>\n",
              "      <td>0</td>\n",
              "      <td>83.4</td>\n",
              "      <td>232.2</td>\n",
              "      <td>7.6</td>\n",
              "      <td>False</td>\n",
              "      <td>0</td>\n",
              "    </tr>\n",
              "  </tbody>\n",
              "</table>\n",
              "</div>"
            ],
            "text/plain": [
              "   Intl_Plan  Day_Mins  Eve_Mins  All_Mins percentofcalls  Churn\n",
              "0          0     265.1     197.4      10.0          False      0\n",
              "1          0     232.1     292.3       0.0          False      0\n",
              "2          1      62.6     180.6      10.4          False      1\n",
              "3          0     205.9     209.3      14.5          False      0\n",
              "4          0      83.4     232.2       7.6          False      0"
            ]
          },
          "metadata": {
            "tags": []
          }
        },
        {
          "output_type": "stream",
          "text": [
            "\n",
            "Model LogisticRegression\n",
            "\tCV scores [0.15277778 0.11111111 0.16438356 0.23287671 0.25      ]\n",
            "\tmean=0.182 std=0.052\n",
            "\n",
            "Model SVC\n",
            "\tCV scores [0.5        0.44444444 0.52054795 0.43835616 0.47222222]\n",
            "\tmean=0.475 std=0.032\n",
            "\n",
            "Model DT (prunned=4)\n",
            "\tCV scores [0.51388889 0.44444444 0.45205479 0.49315068 0.52777778]\n",
            "\tmean=0.486 std=0.033\n"
          ],
          "name": "stdout"
        }
      ]
    },
    {
      "cell_type": "code",
      "metadata": {
        "Collapsed": "false",
        "pycharm": {
          "is_executing": false
        },
        "id": "7OD3iKC_5Y-L",
        "colab_type": "code",
        "colab": {}
      },
      "source": [
        ""
      ],
      "execution_count": 0,
      "outputs": []
    },
    {
      "cell_type": "code",
      "metadata": {
        "Collapsed": "false",
        "pycharm": {
          "is_executing": false
        },
        "id": "2dRTQYoT5Y-N",
        "colab_type": "code",
        "colab": {}
      },
      "source": [
        ""
      ],
      "execution_count": 0,
      "outputs": []
    },
    {
      "cell_type": "code",
      "metadata": {
        "Collapsed": "false",
        "pycharm": {
          "is_executing": false
        },
        "id": "LZKCGqUP5Y-T",
        "colab_type": "code",
        "colab": {}
      },
      "source": [
        ""
      ],
      "execution_count": 0,
      "outputs": []
    },
    {
      "cell_type": "code",
      "metadata": {
        "Collapsed": "false",
        "pycharm": {
          "is_executing": false
        },
        "id": "xpdpT1VE5Y-V",
        "colab_type": "code",
        "colab": {}
      },
      "source": [
        ""
      ],
      "execution_count": 0,
      "outputs": []
    },
    {
      "cell_type": "code",
      "metadata": {
        "Collapsed": "false",
        "pycharm": {
          "is_executing": false
        },
        "id": "1SlsNPQN5Y-Y",
        "colab_type": "code",
        "colab": {}
      },
      "source": [
        ""
      ],
      "execution_count": 0,
      "outputs": []
    },
    {
      "cell_type": "code",
      "metadata": {
        "Collapsed": "false",
        "pycharm": {
          "is_executing": false
        },
        "id": "L15yr8Jg5Y-c",
        "colab_type": "code",
        "colab": {}
      },
      "source": [
        ""
      ],
      "execution_count": 0,
      "outputs": []
    },
    {
      "cell_type": "code",
      "metadata": {
        "Collapsed": "false",
        "pycharm": {
          "is_executing": false
        },
        "id": "HNOPMz105Y-f",
        "colab_type": "code",
        "colab": {}
      },
      "source": [
        ""
      ],
      "execution_count": 0,
      "outputs": []
    },
    {
      "cell_type": "code",
      "metadata": {
        "Collapsed": "false",
        "pycharm": {
          "is_executing": false
        },
        "id": "WP6Ec93a5Y-j",
        "colab_type": "code",
        "colab": {}
      },
      "source": [
        ""
      ],
      "execution_count": 0,
      "outputs": []
    }
  ]
}